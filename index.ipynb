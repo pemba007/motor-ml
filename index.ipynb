{
  "cells": [
    {
      "cell_type": "markdown",
      "metadata": {
        "id": "view-in-github",
        "colab_type": "text"
      },
      "source": [
        "<a href=\"https://colab.research.google.com/github/pemba007/motor-ml/blob/main/index.ipynb\" target=\"_parent\"><img src=\"https://colab.research.google.com/assets/colab-badge.svg\" alt=\"Open In Colab\"/></a>"
      ]
    },
    {
      "cell_type": "code",
      "execution_count": 37,
      "metadata": {
        "id": "OmrxsrXECTeL"
      },
      "outputs": [],
      "source": [
        "import pandas as pd\n",
        "import seaborn as sns\n",
        "import matplotlib.pyplot as plt\n",
        "import numpy as np\n",
        "\n",
        "df = pd.read_csv('./accelerometer.csv')"
      ]
    },
    {
      "cell_type": "code",
      "execution_count": 38,
      "metadata": {
        "colab": {
          "base_uri": "https://localhost:8080/"
        },
        "id": "58S2i9xgCTeS",
        "outputId": "2e56bf27-5150-4156-fe65-1b4667f19b4b"
      },
      "outputs": [
        {
          "output_type": "execute_result",
          "data": {
            "text/plain": [
              "(153000, 5)"
            ]
          },
          "metadata": {},
          "execution_count": 38
        }
      ],
      "source": [
        "df.shape"
      ]
    },
    {
      "cell_type": "code",
      "execution_count": 39,
      "metadata": {
        "id": "pDVDflf3CTeX"
      },
      "outputs": [],
      "source": [
        "# Remove later\n",
        "\n",
        "# df = df.iloc[:1000,:]"
      ]
    },
    {
      "cell_type": "code",
      "execution_count": 40,
      "metadata": {
        "colab": {
          "base_uri": "https://localhost:8080/"
        },
        "id": "x86xG0jECTeY",
        "outputId": "cc4ed4e9-79b0-473a-daf7-0b5496d8e2e5"
      },
      "outputs": [
        {
          "output_type": "execute_result",
          "data": {
            "text/plain": [
              "(153000, 5)"
            ]
          },
          "metadata": {},
          "execution_count": 40
        }
      ],
      "source": [
        "df.shape"
      ]
    },
    {
      "cell_type": "code",
      "execution_count": 41,
      "metadata": {
        "colab": {
          "base_uri": "https://localhost:8080/",
          "height": 300
        },
        "id": "Bd5Z1cpvCTeZ",
        "outputId": "4bd86524-6261-41ef-e278-3aad14412957"
      },
      "outputs": [
        {
          "output_type": "execute_result",
          "data": {
            "text/plain": [
              "             wconfid          pctid              x              y  \\\n",
              "count  153000.000000  153000.000000  153000.000000  153000.000000   \n",
              "mean        2.000000      60.000000       0.995622       0.005351   \n",
              "std         0.816499      24.494977       0.773958       0.742602   \n",
              "min         1.000000      20.000000      -8.000000      -8.000000   \n",
              "25%         1.000000      40.000000       0.945000      -0.078000   \n",
              "50%         2.000000      60.000000       0.992000       0.008000   \n",
              "75%         3.000000      80.000000       1.039000       0.105000   \n",
              "max         3.000000     100.000000       7.996000       7.996000   \n",
              "\n",
              "                   z  \n",
              "count  153000.000000  \n",
              "mean       -0.117769  \n",
              "std         0.517008  \n",
              "min        -5.867000  \n",
              "25%        -0.172000  \n",
              "50%        -0.125000  \n",
              "75%        -0.066000  \n",
              "max         6.086000  "
            ],
            "text/html": [
              "\n",
              "  <div id=\"df-457799f4-db4e-48b7-baaf-be5d2fe05cd0\">\n",
              "    <div class=\"colab-df-container\">\n",
              "      <div>\n",
              "<style scoped>\n",
              "    .dataframe tbody tr th:only-of-type {\n",
              "        vertical-align: middle;\n",
              "    }\n",
              "\n",
              "    .dataframe tbody tr th {\n",
              "        vertical-align: top;\n",
              "    }\n",
              "\n",
              "    .dataframe thead th {\n",
              "        text-align: right;\n",
              "    }\n",
              "</style>\n",
              "<table border=\"1\" class=\"dataframe\">\n",
              "  <thead>\n",
              "    <tr style=\"text-align: right;\">\n",
              "      <th></th>\n",
              "      <th>wconfid</th>\n",
              "      <th>pctid</th>\n",
              "      <th>x</th>\n",
              "      <th>y</th>\n",
              "      <th>z</th>\n",
              "    </tr>\n",
              "  </thead>\n",
              "  <tbody>\n",
              "    <tr>\n",
              "      <th>count</th>\n",
              "      <td>153000.000000</td>\n",
              "      <td>153000.000000</td>\n",
              "      <td>153000.000000</td>\n",
              "      <td>153000.000000</td>\n",
              "      <td>153000.000000</td>\n",
              "    </tr>\n",
              "    <tr>\n",
              "      <th>mean</th>\n",
              "      <td>2.000000</td>\n",
              "      <td>60.000000</td>\n",
              "      <td>0.995622</td>\n",
              "      <td>0.005351</td>\n",
              "      <td>-0.117769</td>\n",
              "    </tr>\n",
              "    <tr>\n",
              "      <th>std</th>\n",
              "      <td>0.816499</td>\n",
              "      <td>24.494977</td>\n",
              "      <td>0.773958</td>\n",
              "      <td>0.742602</td>\n",
              "      <td>0.517008</td>\n",
              "    </tr>\n",
              "    <tr>\n",
              "      <th>min</th>\n",
              "      <td>1.000000</td>\n",
              "      <td>20.000000</td>\n",
              "      <td>-8.000000</td>\n",
              "      <td>-8.000000</td>\n",
              "      <td>-5.867000</td>\n",
              "    </tr>\n",
              "    <tr>\n",
              "      <th>25%</th>\n",
              "      <td>1.000000</td>\n",
              "      <td>40.000000</td>\n",
              "      <td>0.945000</td>\n",
              "      <td>-0.078000</td>\n",
              "      <td>-0.172000</td>\n",
              "    </tr>\n",
              "    <tr>\n",
              "      <th>50%</th>\n",
              "      <td>2.000000</td>\n",
              "      <td>60.000000</td>\n",
              "      <td>0.992000</td>\n",
              "      <td>0.008000</td>\n",
              "      <td>-0.125000</td>\n",
              "    </tr>\n",
              "    <tr>\n",
              "      <th>75%</th>\n",
              "      <td>3.000000</td>\n",
              "      <td>80.000000</td>\n",
              "      <td>1.039000</td>\n",
              "      <td>0.105000</td>\n",
              "      <td>-0.066000</td>\n",
              "    </tr>\n",
              "    <tr>\n",
              "      <th>max</th>\n",
              "      <td>3.000000</td>\n",
              "      <td>100.000000</td>\n",
              "      <td>7.996000</td>\n",
              "      <td>7.996000</td>\n",
              "      <td>6.086000</td>\n",
              "    </tr>\n",
              "  </tbody>\n",
              "</table>\n",
              "</div>\n",
              "      <button class=\"colab-df-convert\" onclick=\"convertToInteractive('df-457799f4-db4e-48b7-baaf-be5d2fe05cd0')\"\n",
              "              title=\"Convert this dataframe to an interactive table.\"\n",
              "              style=\"display:none;\">\n",
              "        \n",
              "  <svg xmlns=\"http://www.w3.org/2000/svg\" height=\"24px\"viewBox=\"0 0 24 24\"\n",
              "       width=\"24px\">\n",
              "    <path d=\"M0 0h24v24H0V0z\" fill=\"none\"/>\n",
              "    <path d=\"M18.56 5.44l.94 2.06.94-2.06 2.06-.94-2.06-.94-.94-2.06-.94 2.06-2.06.94zm-11 1L8.5 8.5l.94-2.06 2.06-.94-2.06-.94L8.5 2.5l-.94 2.06-2.06.94zm10 10l.94 2.06.94-2.06 2.06-.94-2.06-.94-.94-2.06-.94 2.06-2.06.94z\"/><path d=\"M17.41 7.96l-1.37-1.37c-.4-.4-.92-.59-1.43-.59-.52 0-1.04.2-1.43.59L10.3 9.45l-7.72 7.72c-.78.78-.78 2.05 0 2.83L4 21.41c.39.39.9.59 1.41.59.51 0 1.02-.2 1.41-.59l7.78-7.78 2.81-2.81c.8-.78.8-2.07 0-2.86zM5.41 20L4 18.59l7.72-7.72 1.47 1.35L5.41 20z\"/>\n",
              "  </svg>\n",
              "      </button>\n",
              "      \n",
              "  <style>\n",
              "    .colab-df-container {\n",
              "      display:flex;\n",
              "      flex-wrap:wrap;\n",
              "      gap: 12px;\n",
              "    }\n",
              "\n",
              "    .colab-df-convert {\n",
              "      background-color: #E8F0FE;\n",
              "      border: none;\n",
              "      border-radius: 50%;\n",
              "      cursor: pointer;\n",
              "      display: none;\n",
              "      fill: #1967D2;\n",
              "      height: 32px;\n",
              "      padding: 0 0 0 0;\n",
              "      width: 32px;\n",
              "    }\n",
              "\n",
              "    .colab-df-convert:hover {\n",
              "      background-color: #E2EBFA;\n",
              "      box-shadow: 0px 1px 2px rgba(60, 64, 67, 0.3), 0px 1px 3px 1px rgba(60, 64, 67, 0.15);\n",
              "      fill: #174EA6;\n",
              "    }\n",
              "\n",
              "    [theme=dark] .colab-df-convert {\n",
              "      background-color: #3B4455;\n",
              "      fill: #D2E3FC;\n",
              "    }\n",
              "\n",
              "    [theme=dark] .colab-df-convert:hover {\n",
              "      background-color: #434B5C;\n",
              "      box-shadow: 0px 1px 3px 1px rgba(0, 0, 0, 0.15);\n",
              "      filter: drop-shadow(0px 1px 2px rgba(0, 0, 0, 0.3));\n",
              "      fill: #FFFFFF;\n",
              "    }\n",
              "  </style>\n",
              "\n",
              "      <script>\n",
              "        const buttonEl =\n",
              "          document.querySelector('#df-457799f4-db4e-48b7-baaf-be5d2fe05cd0 button.colab-df-convert');\n",
              "        buttonEl.style.display =\n",
              "          google.colab.kernel.accessAllowed ? 'block' : 'none';\n",
              "\n",
              "        async function convertToInteractive(key) {\n",
              "          const element = document.querySelector('#df-457799f4-db4e-48b7-baaf-be5d2fe05cd0');\n",
              "          const dataTable =\n",
              "            await google.colab.kernel.invokeFunction('convertToInteractive',\n",
              "                                                     [key], {});\n",
              "          if (!dataTable) return;\n",
              "\n",
              "          const docLinkHtml = 'Like what you see? Visit the ' +\n",
              "            '<a target=\"_blank\" href=https://colab.research.google.com/notebooks/data_table.ipynb>data table notebook</a>'\n",
              "            + ' to learn more about interactive tables.';\n",
              "          element.innerHTML = '';\n",
              "          dataTable['output_type'] = 'display_data';\n",
              "          await google.colab.output.renderOutput(dataTable, element);\n",
              "          const docLink = document.createElement('div');\n",
              "          docLink.innerHTML = docLinkHtml;\n",
              "          element.appendChild(docLink);\n",
              "        }\n",
              "      </script>\n",
              "    </div>\n",
              "  </div>\n",
              "  "
            ]
          },
          "metadata": {},
          "execution_count": 41
        }
      ],
      "source": [
        "df.describe()"
      ]
    },
    {
      "cell_type": "markdown",
      "source": [
        "# New Section"
      ],
      "metadata": {
        "id": "VI-JkQFInz-8"
      }
    },
    {
      "cell_type": "code",
      "execution_count": 9,
      "metadata": {
        "colab": {
          "base_uri": "https://localhost:8080/"
        },
        "id": "CQSEFqu4CTeb",
        "outputId": "7f26709d-da2d-4a98-b98b-302b0c180b3d"
      },
      "outputs": [
        {
          "output_type": "stream",
          "name": "stdout",
          "text": [
            "Unique values in wconfid [1 2 3]\n",
            "Unique values in pctid [ 20  25  30  35  40  45  50  55  60  65  70  75  80  85  90  95 100]\n"
          ]
        }
      ],
      "source": [
        "# Unique values in wconfid, pctid\n",
        "print(\"Unique values in wconfid\", df['wconfid'].unique())\n",
        "print(\"Unique values in pctid\", df['pctid'].unique())"
      ]
    },
    {
      "cell_type": "code",
      "execution_count": 10,
      "metadata": {
        "colab": {
          "base_uri": "https://localhost:8080/",
          "height": 386
        },
        "id": "ba4_Vel3CTec",
        "outputId": "c7520511-9e8b-497f-b21d-12e799aeb07e"
      },
      "outputs": [
        {
          "output_type": "execute_result",
          "data": {
            "text/plain": [
              "<seaborn.axisgrid.FacetGrid at 0x7f188a3f58d0>"
            ]
          },
          "metadata": {},
          "execution_count": 10
        },
        {
          "output_type": "display_data",
          "data": {
            "text/plain": [
              "<Figure size 360x360 with 1 Axes>"
            ],
            "image/png": "[encoded data removed]"
          },
          "metadata": {
            "needs_background": "light"
          }
        }
      ],
      "source": [
        "sns.displot(x = df['x'], kind='kde')"
      ]
    },
    {
      "cell_type": "code",
      "execution_count": 11,
      "metadata": {
        "colab": {
          "base_uri": "https://localhost:8080/",
          "height": 386
        },
        "id": "JPhEMDOQCTee",
        "outputId": "48fe3f23-716d-42ca-e583-d9aa03da7402"
      },
      "outputs": [
        {
          "output_type": "execute_result",
          "data": {
            "text/plain": [
              "<seaborn.axisgrid.FacetGrid at 0x7f188a36f3d0>"
            ]
          },
          "metadata": {},
          "execution_count": 11
        },
        {
          "output_type": "display_data",
          "data": {
            "text/plain": [
              "<Figure size 360x360 with 1 Axes>"
            ],
            "image/png": "[encoded data removed]"
          },
          "metadata": {
            "needs_background": "light"
          }
        }
      ],
      "source": [
        "sns.displot(x = df['y'], kind='kde')"
      ]
    },
    {
      "cell_type": "code",
      "execution_count": 12,
      "metadata": {
        "colab": {
          "base_uri": "https://localhost:8080/",
          "height": 386
        },
        "id": "5PlDzUFkCTef",
        "outputId": "13a72216-0dbe-4cc6-8328-d3d85d68534d"
      },
      "outputs": [
        {
          "output_type": "execute_result",
          "data": {
            "text/plain": [
              "<seaborn.axisgrid.FacetGrid at 0x7f188a382a50>"
            ]
          },
          "metadata": {},
          "execution_count": 12
        },
        {
          "output_type": "display_data",
          "data": {
            "text/plain": [
              "<Figure size 360x360 with 1 Axes>"
            ],
            "image/png": "[encoded data removed]"
          },
          "metadata": {
            "needs_background": "light"
          }
        }
      ],
      "source": [
        "sns.displot(x = df['z'], kind='kde')"
      ]
    },
    {
      "cell_type": "code",
      "execution_count": 42,
      "metadata": {
        "id": "FKDJaOKBCTeh"
      },
      "outputs": [],
      "source": [
        "# Separating target variable\n",
        "y_original = df['wconfid'] \n",
        "df.drop(columns=['wconfid'], inplace=True)"
      ]
    },
    {
      "cell_type": "code",
      "source": [
        "import warnings\n",
        "warnings.filterwarnings(\"ignore\")"
      ],
      "metadata": {
        "id": "0SISKEatQTrM"
      },
      "execution_count": 43,
      "outputs": []
    },
    {
      "cell_type": "code",
      "source": [
        "def delinearize(arr):\n",
        "  temp = list()\n",
        "  for x in arr:\n",
        "    temp.append(np.where(x == 1)[0][0])\n",
        "  return temp\n"
      ],
      "metadata": {
        "id": "MqE2adlhVZEI"
      },
      "execution_count": 15,
      "outputs": []
    },
    {
      "cell_type": "markdown",
      "metadata": {
        "id": "IuOMcHAlCTej"
      },
      "source": [
        "# Implementing ANN with 5 fold"
      ]
    },
    {
      "cell_type": "code",
      "execution_count": 16,
      "metadata": {
        "colab": {
          "base_uri": "https://localhost:8080/"
        },
        "id": "UKB-ZzTSCTeo",
        "outputId": "3cf0854e-91ca-449f-adb6-99f46bf19a3d"
      },
      "outputs": [
        {
          "output_type": "stream",
          "name": "stdout",
          "text": [
            "TRAIN: [ 10200  10201  10202 ... 152997 152998 152999] TEST: [     0      1      2 ... 112197 112198 112199]\n",
            "2\n",
            "3\n",
            "TRAIN: [     0      1      2 ... 152997 152998 152999] TEST: [ 10200  10201  10202 ... 122397 122398 122399]\n",
            "2\n",
            "3\n",
            "TRAIN: [     0      1      2 ... 152997 152998 152999] TEST: [ 20400  20401  20402 ... 132597 132598 132599]\n",
            "2\n",
            "3\n",
            "TRAIN: [     0      1      2 ... 152997 152998 152999] TEST: [ 30600  30601  30602 ... 142797 142798 142799]\n",
            "2\n",
            "3\n",
            "TRAIN: [     0      1      2 ... 142797 142798 142799] TEST: [ 40800  40801  40802 ... 152997 152998 152999]\n",
            "2\n",
            "3\n"
          ]
        }
      ],
      "source": [
        "from sklearn.model_selection import StratifiedKFold\n",
        "from sklearn.neural_network import MLPClassifier\n",
        "from sklearn.model_selection import cross_val_predict\n",
        "from sklearn.preprocessing import label_binarize\n",
        "from sklearn.multiclass import OneVsRestClassifier\n",
        "from sklearn.metrics import accuracy_score, RocCurveDisplay, classification_report, auc, f1_score, multilabel_confusion_matrix,roc_curve, roc_auc_score\n",
        "\n",
        "skf = StratifiedKFold(n_splits=5)\n",
        "\n",
        "clf = MLPClassifier(max_iter=100)\n",
        "\n",
        "classifier = OneVsRestClassifier(\n",
        "  clf\n",
        ")\n",
        "\n",
        "conf_matrixes = list()\n",
        "\n",
        "accuracy_scores = list()\n",
        "\n",
        "actual_classes = np.empty([0], dtype=int)\n",
        "predicted_classes = np.empty([0], dtype=int)\n",
        "\n",
        "all_fprs = list()\n",
        "all_tprs = list()\n",
        "all_roc_aucs = list()\n",
        "\n",
        "y = y_original\n",
        "\n",
        "# for train_index, test_index in skf.split(df, y):\n",
        "for k, (train_index, test_index) in enumerate(skf.split(df, y)):\n",
        "    # print(\"Fold\", k)\n",
        "    print(\"TRAIN:\", train_index, \"TEST:\", test_index)\n",
        "    X_train, X_test = df.iloc[train_index,:], df.iloc[test_index,:]\n",
        "    y_train, y_test = y[train_index], y[test_index]\n",
        "\n",
        "    # print(\"ASdASKLjfalk\")\n",
        "    # print(y_train)\n",
        "\n",
        "    y_before_train = y_train\n",
        "    y_before_test = y_test\n",
        "\n",
        "    y_train = label_binarize(y_train, classes=[1, 2, 3])\n",
        "    y_test = label_binarize(y_test, classes=[1, 2, 3])\n",
        "\n",
        "    n_classes = y_train.shape[1]\n",
        "\n",
        "    classifier.fit(X_train, y_train)\n",
        "\n",
        "    y_pred = classifier.predict(X_test)\n",
        "\n",
        "    # print(\"Before\")\n",
        "\n",
        "    y_score = y_pred\n",
        "    # print(\"Y_Cscore\", y_score)\n",
        "    # Compute ROC curve and ROC area for each class\n",
        "    fpr = dict()\n",
        "    tpr = dict()\n",
        "    roc_auc = dict()\n",
        "    for i in range(n_classes):\n",
        "        fpr[i], tpr[i], _ = roc_curve(y_test[:, i], y_score[:, i])\n",
        "        roc_auc[i] = auc(fpr[i], tpr[i])\n",
        "    \n",
        "    all_fprs.append(fpr)\n",
        "    all_tprs.append(tpr)\n",
        "    all_roc_aucs.append(roc_auc)\n",
        "\n",
        "    # print(\"1\", y_before_train)\n",
        "    # print('22', y_before_test)\n",
        "\n",
        "    # To get the metrics\n",
        "    # y_before_train = y_before_train.reshape(-1, 1)\n",
        "    clf.fit(X_train, y_before_train)\n",
        "  \n",
        "    un_y_pred = clf.predict(X_test)\n",
        "    \n",
        "    print(\"2\")\n",
        "    # Calculating accuracy score\n",
        "    accuracy_scores.append(accuracy_score(y_before_test, un_y_pred))\n",
        "\n",
        "    print(\"3\")\n",
        "    # Calculating confusion matrix\n",
        "    cmf = multilabel_confusion_matrix(y_before_test, un_y_pred)\n",
        "    conf_matrixes.append(cmf)\n",
        "\n",
        "    actual_classes = np.append(actual_classes, y_before_test)\n",
        "    predicted_classes = np.append(predicted_classes, un_y_pred)\n",
        "\n",
        "    # Calculating values for the ROC Curve\n",
        "    "
      ]
    },
    {
      "cell_type": "markdown",
      "source": [
        "## Creating ROC graphs"
      ],
      "metadata": {
        "id": "e8qzJ1RV8qR_"
      }
    },
    {
      "cell_type": "code",
      "source": [
        "# Creating values for each classes\n",
        "\n",
        "class_1_fpr = list()\n",
        "class_2_fpr = list()\n",
        "class_3_fpr = list()\n",
        "\n",
        "class_1_tpr = list()\n",
        "class_2_tpr = list()\n",
        "class_3_tpr = list()\n",
        "\n",
        "class_1_roc_auc = list()\n",
        "class_2_roc_auc = list()\n",
        "class_3_roc_auc = list()\n",
        "\n",
        "for x in range(5):\n",
        "  class_1_fpr.append(all_fprs[x][0])\n",
        "  class_2_fpr.append(all_fprs[x][1])\n",
        "  class_3_fpr.append(all_fprs[x][2])\n",
        "\n",
        "  class_1_tpr.append(all_tprs[x][0])\n",
        "  class_2_tpr.append(all_tprs[x][1])\n",
        "  class_3_tpr.append(all_tprs[x][2])\n",
        "\n",
        "  class_1_roc_auc.append(all_roc_aucs[x][0])\n",
        "  class_2_roc_auc.append(all_roc_aucs[x][1])\n",
        "  class_3_roc_auc.append(all_roc_aucs[x][2])"
      ],
      "metadata": {
        "id": "huIZmU8R8cRC"
      },
      "execution_count": 17,
      "outputs": []
    },
    {
      "cell_type": "code",
      "source": [
        "plt.figure()\n",
        "lw = 2\n",
        "plt.plot(\n",
        "    class_1_fpr[0],\n",
        "    class_1_tpr[0],\n",
        "    color=\"darkorange\",\n",
        "    lw=lw,\n",
        "    label=\"ROC curve fold 1(AUC = %0.2f)\" % class_1_roc_auc[0],\n",
        ")\n",
        "plt.plot(\n",
        "    class_1_fpr[1],\n",
        "    class_1_tpr[1],\n",
        "    color=\"red\",\n",
        "    lw=lw,\n",
        "    label=\"ROC curve fold 2 (AUC = %0.2f)\" % class_1_roc_auc[1],\n",
        ")\n",
        "plt.plot(\n",
        "    class_1_fpr[2],\n",
        "    class_1_tpr[2],\n",
        "    color=\"blue\",\n",
        "    lw=lw,\n",
        "    label=\"ROC curve fold 3 (AUC = %0.2f)\" % class_1_roc_auc[2],\n",
        ")\n",
        "plt.plot(\n",
        "    class_1_fpr[3],\n",
        "    class_1_tpr[3],\n",
        "    color=\"green\",\n",
        "    lw=lw,\n",
        "    label=\"ROC curve fold 4 (AUC = %0.2f)\" % class_1_roc_auc[3],\n",
        ")\n",
        "\n",
        "plt.plot(\n",
        "    class_1_fpr[4],\n",
        "    class_1_tpr[4],\n",
        "    color=\"brown\",\n",
        "    lw=lw,\n",
        "    label=\"ROC curve fold 5 (AUC = %0.2f)\" % class_1_roc_auc[4],\n",
        ")\n",
        "\n",
        "plt.plot([0, 1], [0, 1], color=\"navy\", lw=lw, linestyle=\"--\")\n",
        "plt.xlim([0.0, 1.0])\n",
        "plt.ylim([0.0, 1.05])\n",
        "plt.xlabel(\"False Positive Rate\")\n",
        "plt.ylabel(\"True Positive Rate\")\n",
        "plt.title(\"Class 1 ROC graphs\")\n",
        "plt.legend(loc=\"lower right\")\n",
        "plt.show()"
      ],
      "metadata": {
        "id": "Are0vlK9Gspt",
        "colab": {
          "base_uri": "https://localhost:8080/",
          "height": 295
        },
        "outputId": "23d43f96-2847-4e82-f599-f5c23a8b1bef"
      },
      "execution_count": 18,
      "outputs": [
        {
          "output_type": "display_data",
          "data": {
            "text/plain": [
              "<Figure size 432x288 with 1 Axes>"
            ],
            "image/png": "[encoded data removed]"
          },
          "metadata": {
            "needs_background": "light"
          }
        }
      ]
    },
    {
      "cell_type": "code",
      "source": [
        "plt.figure()\n",
        "lw = 2\n",
        "plt.plot(\n",
        "    class_2_fpr[0],\n",
        "    class_2_tpr[0],\n",
        "    color=\"darkorange\",\n",
        "    lw=lw,\n",
        "    label=\"ROC curve fold 1(AUC = %0.2f)\" % class_2_roc_auc[0],\n",
        ")\n",
        "plt.plot(\n",
        "    class_2_fpr[1],\n",
        "    class_2_tpr[1],\n",
        "    color=\"red\",\n",
        "    lw=lw,\n",
        "    label=\"ROC curve fold 2 (AUC = %0.2f)\" % class_2_roc_auc[1],\n",
        ")\n",
        "plt.plot(\n",
        "    class_2_fpr[2],\n",
        "    class_2_tpr[2],\n",
        "    color=\"blue\",\n",
        "    lw=lw,\n",
        "    label=\"ROC curve fold 3 (AUC = %0.2f)\" % class_2_roc_auc[2],\n",
        ")\n",
        "plt.plot(\n",
        "    class_2_fpr[3],\n",
        "    class_2_tpr[3],\n",
        "    color=\"green\",\n",
        "    lw=lw,\n",
        "    label=\"ROC curve fold 4 (AUC = %0.2f)\" % class_2_roc_auc[3],\n",
        ")\n",
        "\n",
        "plt.plot(\n",
        "    class_2_fpr[4],\n",
        "    class_2_tpr[4],\n",
        "    color=\"brown\",\n",
        "    lw=lw,\n",
        "    label=\"ROC curve fold 5 (AUC = %0.2f)\" % class_2_roc_auc[4],\n",
        ")\n",
        "\n",
        "plt.plot([0, 1], [0, 1], color=\"navy\", lw=lw, linestyle=\"--\")\n",
        "plt.xlim([0.0, 1.0])\n",
        "plt.ylim([0.0, 1.05])\n",
        "plt.xlabel(\"False Positive Rate\")\n",
        "plt.ylabel(\"True Positive Rate\")\n",
        "plt.title(\"Class 2 ROC graphs\")\n",
        "plt.legend(loc=\"lower right\")\n",
        "plt.show()"
      ],
      "metadata": {
        "id": "svAbQOoMMtor",
        "colab": {
          "base_uri": "https://localhost:8080/",
          "height": 295
        },
        "outputId": "729e2fbf-94bd-4db0-8caa-5de8b1aa89c6"
      },
      "execution_count": 19,
      "outputs": [
        {
          "output_type": "display_data",
          "data": {
            "text/plain": [
              "<Figure size 432x288 with 1 Axes>"
            ],
            "image/png": "[encoded data removed]"
          },
          "metadata": {
            "needs_background": "light"
          }
        }
      ]
    },
    {
      "cell_type": "code",
      "source": [
        "plt.figure()\n",
        "lw = 2\n",
        "plt.plot(\n",
        "    class_3_fpr[0],\n",
        "    class_3_tpr[0],\n",
        "    color=\"darkorange\",\n",
        "    lw=lw,\n",
        "    label=\"ROC curve fold 1(AUC = %0.2f)\" % class_3_roc_auc[0],\n",
        ")\n",
        "plt.plot(\n",
        "    class_3_fpr[1],\n",
        "    class_3_tpr[1],\n",
        "    color=\"red\",\n",
        "    lw=lw,\n",
        "    label=\"ROC curve fold 2 (AUC = %0.2f)\" % class_3_roc_auc[1],\n",
        ")\n",
        "plt.plot(\n",
        "    class_3_fpr[2],\n",
        "    class_3_tpr[2],\n",
        "    color=\"blue\",\n",
        "    lw=lw,\n",
        "    label=\"ROC curve fold 3 (AUC = %0.2f)\" % class_3_roc_auc[2],\n",
        ")\n",
        "plt.plot(\n",
        "    class_3_fpr[3],\n",
        "    class_3_tpr[3],\n",
        "    color=\"green\",\n",
        "    lw=lw,\n",
        "    label=\"ROC curve fold 4 (AUC = %0.2f)\" % class_3_roc_auc[3],\n",
        ")\n",
        "\n",
        "plt.plot(\n",
        "    class_3_fpr[4],\n",
        "    class_3_tpr[4],\n",
        "    color=\"brown\",\n",
        "    lw=lw,\n",
        "    label=\"ROC curve fold 5 (AUC = %0.2f)\" % class_3_roc_auc[4],\n",
        ")\n",
        "\n",
        "plt.plot([0, 1], [0, 1], color=\"navy\", lw=lw, linestyle=\"--\")\n",
        "plt.xlim([0.0, 1.0])\n",
        "plt.ylim([0.0, 1.05])\n",
        "plt.xlabel(\"False Positive Rate\")\n",
        "plt.ylabel(\"True Positive Rate\")\n",
        "plt.title(\"Class 3 ROC graphs\")\n",
        "plt.legend(loc=\"lower right\")\n",
        "plt.show()"
      ],
      "metadata": {
        "id": "AF7j-HSTNAYv",
        "colab": {
          "base_uri": "https://localhost:8080/",
          "height": 295
        },
        "outputId": "2d898ce7-c270-4882-d0e8-4d5dd0d142f3"
      },
      "execution_count": 20,
      "outputs": [
        {
          "output_type": "display_data",
          "data": {
            "text/plain": [
              "<Figure size 432x288 with 1 Axes>"
            ],
            "image/png": "[encoded data removed]"
          },
          "metadata": {
            "needs_background": "light"
          }
        }
      ]
    },
    {
      "cell_type": "code",
      "source": [
        "cm = multilabel_confusion_matrix(actual_classes, predicted_classes)\n",
        "\n",
        "res = []\n",
        "\n",
        "for l in [0,1,2]:\n",
        "    x = cm[l]\n",
        "    tn, fp = x[0]\n",
        "    fn, tp = x[1]\n",
        "    sensitivity = tp / (tp + fn)\n",
        "    specificity = tn / (tn + fp)\n",
        "    precision = tp / (tp + fp)\n",
        "    f1 = (2 * precision * sensitivity) / (precision + sensitivity)\n",
        "    res.append([l+1,sensitivity, specificity, f1])\n",
        "\n",
        "frame = pd.DataFrame(res, columns = ['Class','Sensitivity(Recall)','Specificity', 'F1 score'])\n",
        "\n",
        "total_accuracy = accuracy_score(actual_classes, predicted_classes)\n",
        "print(\"The total accuracy is\", total_accuracy)"
      ],
      "metadata": {
        "id": "-ZZk4ygAH2aW",
        "colab": {
          "base_uri": "https://localhost:8080/"
        },
        "outputId": "0cd3bca6-e230-40f5-a4f2-e52c89efce30"
      },
      "execution_count": 21,
      "outputs": [
        {
          "output_type": "stream",
          "name": "stdout",
          "text": [
            "The total accuracy is 0.5728562091503268\n"
          ]
        }
      ]
    },
    {
      "cell_type": "code",
      "source": [
        "frame"
      ],
      "metadata": {
        "id": "fFBFp0WuS2XC",
        "colab": {
          "base_uri": "https://localhost:8080/",
          "height": 143
        },
        "outputId": "49792f7f-3a5c-4253-caed-8a7d4b4d5005"
      },
      "execution_count": 22,
      "outputs": [
        {
          "output_type": "execute_result",
          "data": {
            "text/plain": [
              "   Class  Sensitivity(Recall)  Specificity  F1 score\n",
              "0      1             0.661863     0.567206  0.523739\n",
              "1      2             0.376333     0.840931  0.444190\n",
              "2      3             0.680373     0.951147  0.765290"
            ],
            "text/html": [
              "\n",
              "  <div id=\"df-97805560-dcad-465e-97d4-b9d251c4ec77\">\n",
              "    <div class=\"colab-df-container\">\n",
              "      <div>\n",
              "<style scoped>\n",
              "    .dataframe tbody tr th:only-of-type {\n",
              "        vertical-align: middle;\n",
              "    }\n",
              "\n",
              "    .dataframe tbody tr th {\n",
              "        vertical-align: top;\n",
              "    }\n",
              "\n",
              "    .dataframe thead th {\n",
              "        text-align: right;\n",
              "    }\n",
              "</style>\n",
              "<table border=\"1\" class=\"dataframe\">\n",
              "  <thead>\n",
              "    <tr style=\"text-align: right;\">\n",
              "      <th></th>\n",
              "      <th>Class</th>\n",
              "      <th>Sensitivity(Recall)</th>\n",
              "      <th>Specificity</th>\n",
              "      <th>F1 score</th>\n",
              "    </tr>\n",
              "  </thead>\n",
              "  <tbody>\n",
              "    <tr>\n",
              "      <th>0</th>\n",
              "      <td>1</td>\n",
              "      <td>0.661863</td>\n",
              "      <td>0.567206</td>\n",
              "      <td>0.523739</td>\n",
              "    </tr>\n",
              "    <tr>\n",
              "      <th>1</th>\n",
              "      <td>2</td>\n",
              "      <td>0.376333</td>\n",
              "      <td>0.840931</td>\n",
              "      <td>0.444190</td>\n",
              "    </tr>\n",
              "    <tr>\n",
              "      <th>2</th>\n",
              "      <td>3</td>\n",
              "      <td>0.680373</td>\n",
              "      <td>0.951147</td>\n",
              "      <td>0.765290</td>\n",
              "    </tr>\n",
              "  </tbody>\n",
              "</table>\n",
              "</div>\n",
              "      <button class=\"colab-df-convert\" onclick=\"convertToInteractive('df-97805560-dcad-465e-97d4-b9d251c4ec77')\"\n",
              "              title=\"Convert this dataframe to an interactive table.\"\n",
              "              style=\"display:none;\">\n",
              "        \n",
              "  <svg xmlns=\"http://www.w3.org/2000/svg\" height=\"24px\"viewBox=\"0 0 24 24\"\n",
              "       width=\"24px\">\n",
              "    <path d=\"M0 0h24v24H0V0z\" fill=\"none\"/>\n",
              "    <path d=\"M18.56 5.44l.94 2.06.94-2.06 2.06-.94-2.06-.94-.94-2.06-.94 2.06-2.06.94zm-11 1L8.5 8.5l.94-2.06 2.06-.94-2.06-.94L8.5 2.5l-.94 2.06-2.06.94zm10 10l.94 2.06.94-2.06 2.06-.94-2.06-.94-.94-2.06-.94 2.06-2.06.94z\"/><path d=\"M17.41 7.96l-1.37-1.37c-.4-.4-.92-.59-1.43-.59-.52 0-1.04.2-1.43.59L10.3 9.45l-7.72 7.72c-.78.78-.78 2.05 0 2.83L4 21.41c.39.39.9.59 1.41.59.51 0 1.02-.2 1.41-.59l7.78-7.78 2.81-2.81c.8-.78.8-2.07 0-2.86zM5.41 20L4 18.59l7.72-7.72 1.47 1.35L5.41 20z\"/>\n",
              "  </svg>\n",
              "      </button>\n",
              "      \n",
              "  <style>\n",
              "    .colab-df-container {\n",
              "      display:flex;\n",
              "      flex-wrap:wrap;\n",
              "      gap: 12px;\n",
              "    }\n",
              "\n",
              "    .colab-df-convert {\n",
              "      background-color: #E8F0FE;\n",
              "      border: none;\n",
              "      border-radius: 50%;\n",
              "      cursor: pointer;\n",
              "      display: none;\n",
              "      fill: #1967D2;\n",
              "      height: 32px;\n",
              "      padding: 0 0 0 0;\n",
              "      width: 32px;\n",
              "    }\n",
              "\n",
              "    .colab-df-convert:hover {\n",
              "      background-color: #E2EBFA;\n",
              "      box-shadow: 0px 1px 2px rgba(60, 64, 67, 0.3), 0px 1px 3px 1px rgba(60, 64, 67, 0.15);\n",
              "      fill: #174EA6;\n",
              "    }\n",
              "\n",
              "    [theme=dark] .colab-df-convert {\n",
              "      background-color: #3B4455;\n",
              "      fill: #D2E3FC;\n",
              "    }\n",
              "\n",
              "    [theme=dark] .colab-df-convert:hover {\n",
              "      background-color: #434B5C;\n",
              "      box-shadow: 0px 1px 3px 1px rgba(0, 0, 0, 0.15);\n",
              "      filter: drop-shadow(0px 1px 2px rgba(0, 0, 0, 0.3));\n",
              "      fill: #FFFFFF;\n",
              "    }\n",
              "  </style>\n",
              "\n",
              "      <script>\n",
              "        const buttonEl =\n",
              "          document.querySelector('#df-97805560-dcad-465e-97d4-b9d251c4ec77 button.colab-df-convert');\n",
              "        buttonEl.style.display =\n",
              "          google.colab.kernel.accessAllowed ? 'block' : 'none';\n",
              "\n",
              "        async function convertToInteractive(key) {\n",
              "          const element = document.querySelector('#df-97805560-dcad-465e-97d4-b9d251c4ec77');\n",
              "          const dataTable =\n",
              "            await google.colab.kernel.invokeFunction('convertToInteractive',\n",
              "                                                     [key], {});\n",
              "          if (!dataTable) return;\n",
              "\n",
              "          const docLinkHtml = 'Like what you see? Visit the ' +\n",
              "            '<a target=\"_blank\" href=https://colab.research.google.com/notebooks/data_table.ipynb>data table notebook</a>'\n",
              "            + ' to learn more about interactive tables.';\n",
              "          element.innerHTML = '';\n",
              "          dataTable['output_type'] = 'display_data';\n",
              "          await google.colab.output.renderOutput(dataTable, element);\n",
              "          const docLink = document.createElement('div');\n",
              "          docLink.innerHTML = docLinkHtml;\n",
              "          element.appendChild(docLink);\n",
              "        }\n",
              "      </script>\n",
              "    </div>\n",
              "  </div>\n",
              "  "
            ]
          },
          "metadata": {},
          "execution_count": 22
        }
      ]
    },
    {
      "cell_type": "markdown",
      "source": [
        "## Changing classifier hidden layers"
      ],
      "metadata": {
        "id": "JD5sZTwfAD03"
      }
    },
    {
      "cell_type": "code",
      "execution_count": 44,
      "metadata": {
        "colab": {
          "base_uri": "https://localhost:8080/"
        },
        "outputId": "2f3cd37d-c2f7-4b2e-fbed-3470777d0bcc",
        "id": "60WYhyyTABOx"
      },
      "outputs": [
        {
          "output_type": "stream",
          "name": "stdout",
          "text": [
            "TRAIN: [ 10200  10201  10202 ... 152997 152998 152999] TEST: [     0      1      2 ... 112197 112198 112199]\n",
            "Iteration 1, loss = 0.77659663\n",
            "Iteration 2, loss = 0.63857436\n",
            "Iteration 3, loss = 0.63896925\n",
            "Iteration 4, loss = 0.63916628\n",
            "Iteration 5, loss = 0.63946264\n",
            "Iteration 6, loss = 0.63970339\n",
            "Iteration 7, loss = 0.63902005\n",
            "Iteration 8, loss = 0.63897504\n",
            "Iteration 9, loss = 0.63916370\n",
            "Iteration 10, loss = 0.63807172\n",
            "Iteration 11, loss = 0.63894422\n",
            "Iteration 12, loss = 0.63887689\n",
            "Iteration 13, loss = 0.63886607\n",
            "Iteration 14, loss = 0.63958912\n",
            "Iteration 15, loss = 0.63865044\n",
            "Iteration 16, loss = 0.63933424\n",
            "Iteration 17, loss = 0.63861035\n",
            "Iteration 18, loss = 0.63831669\n",
            "Iteration 19, loss = 0.63889053\n",
            "Iteration 20, loss = 0.63836082\n",
            "Iteration 21, loss = 0.63818245\n",
            "Training loss did not improve more than tol=0.000100 for 10 consecutive epochs. Stopping.\n",
            "Iteration 1, loss = 0.72322266\n",
            "Iteration 2, loss = 0.63837587\n",
            "Iteration 3, loss = 0.63898450\n",
            "Iteration 4, loss = 0.63899007\n",
            "Iteration 5, loss = 0.63935533\n",
            "Iteration 6, loss = 0.63847030\n",
            "Iteration 7, loss = 0.63917557\n",
            "Iteration 8, loss = 0.63910302\n",
            "Iteration 9, loss = 0.63854571\n",
            "Iteration 10, loss = 0.63893622\n",
            "Iteration 11, loss = 0.63851890\n",
            "Iteration 12, loss = 0.63909071\n",
            "Iteration 13, loss = 0.63891682\n",
            "Training loss did not improve more than tol=0.000100 for 10 consecutive epochs. Stopping.\n",
            "Iteration 1, loss = 0.88999371\n",
            "Iteration 2, loss = 0.63895907\n",
            "Iteration 3, loss = 0.63871850\n",
            "Iteration 4, loss = 0.63853859\n",
            "Iteration 5, loss = 0.63954493\n",
            "Iteration 6, loss = 0.63880306\n",
            "Iteration 7, loss = 0.63911276\n",
            "Iteration 8, loss = 0.63870348\n",
            "Iteration 9, loss = 0.63854421\n",
            "Iteration 10, loss = 0.63918474\n",
            "Iteration 11, loss = 0.63864726\n",
            "Iteration 12, loss = 0.63885584\n",
            "Iteration 13, loss = 0.63811348\n",
            "Iteration 14, loss = 0.63949307\n",
            "Iteration 15, loss = 0.63885465\n",
            "Iteration 16, loss = 0.63873252\n",
            "Iteration 17, loss = 0.63880955\n",
            "Iteration 18, loss = 0.63865949\n",
            "Iteration 19, loss = 0.63815091\n",
            "Iteration 20, loss = 0.63877166\n",
            "Iteration 21, loss = 0.63949227\n",
            "Iteration 22, loss = 0.63856687\n",
            "Iteration 23, loss = 0.63852595\n",
            "Iteration 24, loss = 0.63887417\n",
            "Training loss did not improve more than tol=0.000100 for 10 consecutive epochs. Stopping.\n",
            "Iteration 1, loss = 1.26862779\n",
            "Iteration 2, loss = 1.10405095\n",
            "Iteration 3, loss = 1.10498098\n",
            "Iteration 4, loss = 1.10433518\n",
            "Iteration 5, loss = 1.10480405\n",
            "Iteration 6, loss = 1.10521804\n",
            "Iteration 7, loss = 1.10477084\n",
            "Iteration 8, loss = 1.10526151\n",
            "Iteration 9, loss = 1.10525259\n",
            "Iteration 10, loss = 1.10545035\n",
            "Iteration 11, loss = 1.10614830\n",
            "Iteration 12, loss = 1.10472715\n",
            "Iteration 13, loss = 1.10515739\n",
            "Training loss did not improve more than tol=0.000100 for 10 consecutive epochs. Stopping.\n",
            "TRAIN: [     0      1      2 ... 152997 152998 152999] TEST: [ 10200  10201  10202 ... 122397 122398 122399]\n",
            "Iteration 1, loss = 0.81092189\n",
            "Iteration 2, loss = 0.63880396\n",
            "Iteration 3, loss = 0.63874186\n",
            "Iteration 4, loss = 0.63936516\n",
            "Iteration 5, loss = 0.63879317\n",
            "Iteration 6, loss = 0.63899359\n",
            "Iteration 7, loss = 0.63877665\n",
            "Iteration 8, loss = 0.63879554\n",
            "Iteration 9, loss = 0.63981394\n",
            "Iteration 10, loss = 0.63941035\n",
            "Iteration 11, loss = 0.63901842\n",
            "Iteration 12, loss = 0.63870202\n",
            "Iteration 13, loss = 0.63916058\n",
            "Training loss did not improve more than tol=0.000100 for 10 consecutive epochs. Stopping.\n",
            "Iteration 1, loss = 1.07851686\n",
            "Iteration 2, loss = 0.63435395\n",
            "Iteration 3, loss = 0.63694367\n",
            "Iteration 4, loss = 0.63811593\n",
            "Iteration 5, loss = 0.63809361\n",
            "Iteration 6, loss = 0.63752224\n",
            "Iteration 7, loss = 0.63839337\n",
            "Iteration 8, loss = 0.63808766\n",
            "Iteration 9, loss = 0.63818732\n",
            "Iteration 10, loss = 0.63812982\n",
            "Iteration 11, loss = 0.63929777\n",
            "Iteration 12, loss = 0.63948164\n",
            "Iteration 13, loss = 0.63838320\n",
            "Training loss did not improve more than tol=0.000100 for 10 consecutive epochs. Stopping.\n",
            "Iteration 1, loss = 0.89074527\n",
            "Iteration 2, loss = 0.63830641\n",
            "Iteration 3, loss = 0.63864877\n",
            "Iteration 4, loss = 0.63845819\n",
            "Iteration 5, loss = 0.63851491\n",
            "Iteration 6, loss = 0.63953771\n",
            "Iteration 7, loss = 0.63921830\n",
            "Iteration 8, loss = 0.63822359\n",
            "Iteration 9, loss = 0.63873771\n",
            "Iteration 10, loss = 0.63882463\n",
            "Iteration 11, loss = 0.63875673\n",
            "Iteration 12, loss = 0.63805413\n",
            "Iteration 13, loss = 0.63894686\n",
            "Iteration 14, loss = 0.63895913\n",
            "Iteration 15, loss = 0.63839275\n",
            "Iteration 16, loss = 0.63849581\n",
            "Iteration 17, loss = 0.63934780\n",
            "Iteration 18, loss = 0.63887165\n",
            "Iteration 19, loss = 0.63883286\n",
            "Iteration 20, loss = 0.63864356\n",
            "Iteration 21, loss = 0.63864053\n",
            "Iteration 22, loss = 0.63895557\n",
            "Iteration 23, loss = 0.63880474\n",
            "Training loss did not improve more than tol=0.000100 for 10 consecutive epochs. Stopping.\n",
            "Iteration 1, loss = 1.27643248\n",
            "Iteration 2, loss = 1.10449363\n",
            "Iteration 3, loss = 1.10457075\n",
            "Iteration 4, loss = 1.10533092\n",
            "Iteration 5, loss = 1.10589588\n",
            "Iteration 6, loss = 1.10471479\n",
            "Iteration 7, loss = 1.10518820\n",
            "Iteration 8, loss = 1.10491370\n",
            "Iteration 9, loss = 1.10570395\n",
            "Iteration 10, loss = 1.10444807\n",
            "Iteration 11, loss = 1.10623474\n",
            "Iteration 12, loss = 1.10405437\n",
            "Iteration 13, loss = 1.10523187\n",
            "Iteration 14, loss = 1.10471787\n",
            "Iteration 15, loss = 1.10443225\n",
            "Iteration 16, loss = 1.10450402\n",
            "Iteration 17, loss = 1.10500979\n",
            "Iteration 18, loss = 1.10472666\n",
            "Iteration 19, loss = 1.10549875\n",
            "Iteration 20, loss = 1.10369032\n",
            "Iteration 21, loss = 1.10465560\n",
            "Iteration 22, loss = 1.10418406\n",
            "Iteration 23, loss = 1.10599938\n",
            "Iteration 24, loss = 1.10409048\n",
            "Iteration 25, loss = 1.10515738\n",
            "Iteration 26, loss = 1.10530507\n",
            "Iteration 27, loss = 1.10413250\n",
            "Iteration 28, loss = 1.10461652\n",
            "Iteration 29, loss = 1.10548103\n",
            "Iteration 30, loss = 1.10345322\n",
            "Iteration 31, loss = 1.10504668\n",
            "Iteration 32, loss = 1.10472330\n",
            "Iteration 33, loss = 1.10435734\n",
            "Iteration 34, loss = 1.10462385\n",
            "Iteration 35, loss = 1.10523582\n",
            "Iteration 36, loss = 1.10303478\n",
            "Iteration 37, loss = 1.10452165\n",
            "Iteration 38, loss = 1.10656791\n",
            "Iteration 39, loss = 1.10377086\n",
            "Iteration 40, loss = 1.10542747\n",
            "Iteration 41, loss = 1.10479645\n",
            "Iteration 42, loss = 1.10352587\n",
            "Iteration 43, loss = 1.10426796\n",
            "Iteration 44, loss = 1.10323316\n",
            "Iteration 45, loss = 1.10418730\n",
            "Iteration 46, loss = 1.10470610\n",
            "Iteration 47, loss = 1.10389925\n",
            "Training loss did not improve more than tol=0.000100 for 10 consecutive epochs. Stopping.\n",
            "TRAIN: [     0      1      2 ... 152997 152998 152999] TEST: [ 20400  20401  20402 ... 132597 132598 132599]\n",
            "Iteration 1, loss = 0.78799970\n",
            "Iteration 2, loss = 0.63458874\n",
            "Iteration 3, loss = 0.63864585\n",
            "Iteration 4, loss = 0.63904870\n",
            "Iteration 5, loss = 0.63856275\n",
            "Iteration 6, loss = 0.63854478\n",
            "Iteration 7, loss = 0.63856456\n",
            "Iteration 8, loss = 0.63863379\n",
            "Iteration 9, loss = 0.63870914\n",
            "Iteration 10, loss = 0.63898996\n",
            "Iteration 11, loss = 0.63891823\n",
            "Iteration 12, loss = 0.63883585\n",
            "Iteration 13, loss = 0.63887842\n",
            "Training loss did not improve more than tol=0.000100 for 10 consecutive epochs. Stopping.\n",
            "Iteration 1, loss = 0.73310840\n",
            "Iteration 2, loss = 0.63943511\n",
            "Iteration 3, loss = 0.63915741\n",
            "Iteration 4, loss = 0.63865325\n",
            "Iteration 5, loss = 0.63833393\n",
            "Iteration 6, loss = 0.63930140\n",
            "Iteration 7, loss = 0.63852367\n",
            "Iteration 8, loss = 0.63880690\n",
            "Iteration 9, loss = 0.63847054\n",
            "Iteration 10, loss = 0.63918037\n",
            "Iteration 11, loss = 0.63874641\n",
            "Iteration 12, loss = 0.63872329\n",
            "Iteration 13, loss = 0.63874125\n",
            "Iteration 14, loss = 0.63893729\n",
            "Iteration 15, loss = 0.63865459\n",
            "Iteration 16, loss = 0.63853463\n",
            "Training loss did not improve more than tol=0.000100 for 10 consecutive epochs. Stopping.\n",
            "Iteration 1, loss = 0.75484476\n",
            "Iteration 2, loss = 0.63895829\n",
            "Iteration 3, loss = 0.63925381\n",
            "Iteration 4, loss = 0.63837008\n",
            "Iteration 5, loss = 0.63932249\n",
            "Iteration 6, loss = 0.63864796\n",
            "Iteration 7, loss = 0.63875647\n",
            "Iteration 8, loss = 0.63897748\n",
            "Iteration 9, loss = 0.63884337\n",
            "Iteration 10, loss = 0.63912083\n",
            "Iteration 11, loss = 0.63838301\n",
            "Iteration 12, loss = 0.63940295\n",
            "Iteration 13, loss = 0.63882230\n",
            "Iteration 14, loss = 0.63890969\n",
            "Iteration 15, loss = 0.63893054\n",
            "Training loss did not improve more than tol=0.000100 for 10 consecutive epochs. Stopping.\n",
            "Iteration 1, loss = 1.24116441\n",
            "Iteration 2, loss = 1.10416755\n",
            "Iteration 3, loss = 1.10521470\n",
            "Iteration 4, loss = 1.10575148\n",
            "Iteration 5, loss = 1.10490111\n",
            "Iteration 6, loss = 1.10517652\n",
            "Iteration 7, loss = 1.10441196\n",
            "Iteration 8, loss = 1.10500026\n",
            "Iteration 9, loss = 1.10405750\n",
            "Iteration 10, loss = 1.10481432\n",
            "Iteration 11, loss = 1.10525401\n",
            "Iteration 12, loss = 1.10457266\n",
            "Iteration 13, loss = 1.13976516\n",
            "Iteration 14, loss = 1.10387771\n",
            "Iteration 15, loss = 1.10427840\n",
            "Iteration 16, loss = 1.10473588\n",
            "Iteration 17, loss = 1.10573018\n",
            "Iteration 18, loss = 1.10506047\n",
            "Iteration 19, loss = 1.10495799\n",
            "Iteration 20, loss = 1.10461855\n",
            "Iteration 21, loss = 1.10400815\n",
            "Iteration 22, loss = 1.10431896\n",
            "Iteration 23, loss = 1.10490511\n",
            "Iteration 24, loss = 1.10510648\n",
            "Iteration 25, loss = 1.10549290\n",
            "Training loss did not improve more than tol=0.000100 for 10 consecutive epochs. Stopping.\n",
            "TRAIN: [     0      1      2 ... 152997 152998 152999] TEST: [ 30600  30601  30602 ... 142797 142798 142799]\n",
            "Iteration 1, loss = 0.88995343\n",
            "Iteration 2, loss = 0.63835330\n",
            "Iteration 3, loss = 0.63861216\n",
            "Iteration 4, loss = 0.63907592\n",
            "Iteration 5, loss = 0.63871042\n",
            "Iteration 6, loss = 0.63891611\n",
            "Iteration 7, loss = 0.63947459\n",
            "Iteration 8, loss = 0.63963623\n",
            "Iteration 9, loss = 0.63831631\n",
            "Iteration 10, loss = 0.64032544\n",
            "Iteration 11, loss = 0.63976947\n",
            "Iteration 12, loss = 0.63833920\n",
            "Iteration 13, loss = 0.63914353\n",
            "Training loss did not improve more than tol=0.000100 for 10 consecutive epochs. Stopping.\n",
            "Iteration 1, loss = 0.73127300\n",
            "Iteration 2, loss = 0.63871108\n",
            "Iteration 3, loss = 0.63919284\n",
            "Iteration 4, loss = 0.63853794\n",
            "Iteration 5, loss = 0.63886636\n",
            "Iteration 6, loss = 0.63855150\n",
            "Iteration 7, loss = 0.63906063\n",
            "Iteration 8, loss = 0.63907979\n",
            "Iteration 9, loss = 0.63866762\n",
            "Iteration 10, loss = 0.63848655\n",
            "Iteration 11, loss = 0.63918106\n",
            "Iteration 12, loss = 0.63920786\n",
            "Iteration 13, loss = 0.63828014\n",
            "Iteration 14, loss = 0.63869129\n",
            "Iteration 15, loss = 0.63931601\n",
            "Iteration 16, loss = 0.63922602\n",
            "Iteration 17, loss = 0.63869452\n",
            "Iteration 18, loss = 0.63861217\n",
            "Iteration 19, loss = 0.63827698\n",
            "Iteration 20, loss = 0.63901386\n",
            "Iteration 21, loss = 0.63817416\n",
            "Iteration 22, loss = 0.63853432\n",
            "Iteration 23, loss = 0.63834718\n",
            "Iteration 24, loss = 0.63903293\n",
            "Iteration 25, loss = 0.63857281\n",
            "Iteration 26, loss = 0.63847807\n",
            "Iteration 27, loss = 0.63846568\n",
            "Iteration 28, loss = 0.63853815\n",
            "Iteration 29, loss = 0.63837954\n",
            "Iteration 30, loss = 0.63867390\n",
            "Iteration 31, loss = 0.63810210\n",
            "Iteration 32, loss = 0.63891430\n",
            "Training loss did not improve more than tol=0.000100 for 10 consecutive epochs. Stopping.\n",
            "Iteration 1, loss = 0.70278226\n",
            "Iteration 2, loss = 0.63878317\n",
            "Iteration 3, loss = 0.63871297\n",
            "Iteration 4, loss = 0.63862461\n",
            "Iteration 5, loss = 0.63871154\n",
            "Iteration 6, loss = 0.63846883\n",
            "Iteration 7, loss = 0.63903598\n",
            "Iteration 8, loss = 0.63938090\n",
            "Iteration 9, loss = 0.63854692\n",
            "Iteration 10, loss = 0.63858084\n",
            "Iteration 11, loss = 0.63846079\n",
            "Iteration 12, loss = 0.63861279\n",
            "Iteration 13, loss = 0.63895345\n",
            "Iteration 14, loss = 0.63842946\n",
            "Iteration 15, loss = 0.63823303\n",
            "Iteration 16, loss = 0.63950957\n",
            "Iteration 17, loss = 0.63822630\n",
            "Iteration 18, loss = 0.63920048\n",
            "Iteration 19, loss = 0.63857462\n",
            "Iteration 20, loss = 0.63914962\n",
            "Iteration 21, loss = 0.63881357\n",
            "Iteration 22, loss = 0.63839139\n",
            "Iteration 23, loss = 0.63884156\n",
            "Iteration 24, loss = 0.63867388\n",
            "Iteration 25, loss = 0.63888458\n",
            "Iteration 26, loss = 0.63853388\n",
            "Training loss did not improve more than tol=0.000100 for 10 consecutive epochs. Stopping.\n",
            "Iteration 1, loss = 1.23545791\n",
            "Iteration 2, loss = 1.10442622\n",
            "Iteration 3, loss = 1.10560928\n",
            "Iteration 4, loss = 1.10605424\n",
            "Iteration 5, loss = 1.10491316\n",
            "Iteration 6, loss = 1.10497575\n",
            "Iteration 7, loss = 1.10576833\n",
            "Iteration 8, loss = 1.10437393\n",
            "Iteration 9, loss = 1.10448075\n",
            "Iteration 10, loss = 1.10353946\n",
            "Iteration 11, loss = 1.10542630\n",
            "Iteration 12, loss = 1.10411792\n",
            "Iteration 13, loss = 1.10603892\n",
            "Iteration 14, loss = 1.10467434\n",
            "Iteration 15, loss = 1.10443491\n",
            "Iteration 16, loss = 1.10531177\n",
            "Iteration 17, loss = 1.10620591\n",
            "Iteration 18, loss = 1.10522388\n",
            "Iteration 19, loss = 1.10386996\n",
            "Iteration 20, loss = 1.10426491\n",
            "Iteration 21, loss = 1.10542105\n",
            "Training loss did not improve more than tol=0.000100 for 10 consecutive epochs. Stopping.\n",
            "TRAIN: [     0      1      2 ... 142797 142798 142799] TEST: [ 40800  40801  40802 ... 152997 152998 152999]\n",
            "Iteration 1, loss = 0.77020635\n",
            "Iteration 2, loss = 0.63817546\n",
            "Iteration 3, loss = 0.63935757\n",
            "Iteration 4, loss = 0.64003254\n",
            "Iteration 5, loss = 0.63869268\n",
            "Iteration 6, loss = 0.63887592\n",
            "Iteration 7, loss = 0.63837879\n",
            "Iteration 8, loss = 0.63839128\n",
            "Iteration 9, loss = 0.63863570\n",
            "Iteration 10, loss = 0.63889377\n",
            "Iteration 11, loss = 0.63905244\n",
            "Iteration 12, loss = 0.63832303\n",
            "Iteration 13, loss = 0.63929019\n",
            "Training loss did not improve more than tol=0.000100 for 10 consecutive epochs. Stopping.\n",
            "Iteration 1, loss = 0.82086029\n",
            "Iteration 2, loss = 0.63797301\n",
            "Iteration 3, loss = 0.66087277\n",
            "Iteration 4, loss = 0.63880327\n",
            "Iteration 5, loss = 0.63943114\n",
            "Iteration 6, loss = 0.63908147\n",
            "Iteration 7, loss = 0.63828642\n",
            "Iteration 8, loss = 0.63874793\n",
            "Iteration 9, loss = 0.63902528\n",
            "Iteration 10, loss = 0.63857104\n",
            "Iteration 11, loss = 0.63951543\n",
            "Iteration 12, loss = 0.63818066\n",
            "Iteration 13, loss = 0.63843574\n",
            "Training loss did not improve more than tol=0.000100 for 10 consecutive epochs. Stopping.\n",
            "Iteration 1, loss = 0.73764240\n",
            "Iteration 2, loss = 0.63929718\n",
            "Iteration 3, loss = 0.63891143\n",
            "Iteration 4, loss = 0.63861444\n",
            "Iteration 5, loss = 0.63908158\n",
            "Iteration 6, loss = 0.63869762\n",
            "Iteration 7, loss = 0.63920429\n",
            "Iteration 8, loss = 0.63890196\n",
            "Iteration 9, loss = 0.63953578\n",
            "Iteration 10, loss = 0.63869176\n",
            "Iteration 11, loss = 0.63882991\n",
            "Iteration 12, loss = 0.63842411\n",
            "Iteration 13, loss = 0.63834273\n",
            "Iteration 14, loss = 0.63851019\n",
            "Iteration 15, loss = 0.63815530\n",
            "Iteration 16, loss = 0.63848050\n",
            "Iteration 17, loss = 0.63942448\n",
            "Iteration 18, loss = 0.63867941\n",
            "Iteration 19, loss = 0.63870280\n",
            "Iteration 20, loss = 0.63892330\n",
            "Iteration 21, loss = 0.63906528\n",
            "Iteration 22, loss = 0.63847486\n",
            "Iteration 23, loss = 0.63832884\n",
            "Iteration 24, loss = 0.63856111\n",
            "Iteration 25, loss = 0.63868006\n",
            "Iteration 26, loss = 0.63855022\n",
            "Training loss did not improve more than tol=0.000100 for 10 consecutive epochs. Stopping.\n",
            "Iteration 1, loss = 1.24389577\n",
            "Iteration 2, loss = 1.10368921\n",
            "Iteration 3, loss = 1.10494262\n",
            "Iteration 4, loss = 1.10575094\n",
            "Iteration 5, loss = 1.10530808\n",
            "Iteration 6, loss = 1.10402331\n",
            "Iteration 7, loss = 1.10506352\n",
            "Iteration 8, loss = 1.10660912\n",
            "Iteration 9, loss = 1.10509767\n",
            "Iteration 10, loss = 1.10426556\n",
            "Iteration 11, loss = 1.10631932\n",
            "Iteration 12, loss = 1.10496849\n",
            "Iteration 13, loss = 1.10486215\n",
            "Training loss did not improve more than tol=0.000100 for 10 consecutive epochs. Stopping.\n"
          ]
        }
      ],
      "source": [
        "import numpy as np\n",
        "from sklearn.model_selection import StratifiedKFold\n",
        "from sklearn.neural_network import MLPClassifier\n",
        "from sklearn.model_selection import cross_val_predict\n",
        "from sklearn.preprocessing import label_binarize\n",
        "from sklearn.multiclass import OneVsRestClassifier\n",
        "from sklearn.metrics import accuracy_score, RocCurveDisplay, classification_report, auc, f1_score, multilabel_confusion_matrix,roc_curve, roc_auc_score\n",
        "\n",
        "skf = StratifiedKFold(n_splits=5)\n",
        "\n",
        "y = y_original\n",
        "\n",
        "clf = MLPClassifier(hidden_layer_sizes=(200,),\n",
        "    max_iter=50,\n",
        "    alpha=1e-4,\n",
        "    verbose=10,\n",
        "    learning_rate_init=0.33,)\n",
        "\n",
        "classifier = OneVsRestClassifier(\n",
        "  clf\n",
        ")\n",
        "\n",
        "conf_matrixes = list()\n",
        "\n",
        "accuracy_scores = list()\n",
        "\n",
        "actual_classes = np.empty([0], dtype=int)\n",
        "predicted_classes = np.empty([0], dtype=int)\n",
        "\n",
        "all_fprs = list()\n",
        "all_tprs = list()\n",
        "all_roc_aucs = list()\n",
        "\n",
        "# for train_index, test_index in skf.split(df, y):\n",
        "for k, (train_index, test_index) in enumerate(skf.split(df, y)):\n",
        "    # print(\"Fold\", k)\n",
        "    print(\"TRAIN:\", train_index, \"TEST:\", test_index)\n",
        "    X_train, X_test = df.iloc[train_index,:], df.iloc[test_index,:]\n",
        "    y_train, y_test = y[train_index], y[test_index]\n",
        "\n",
        "    # print(\"ASdASKLjfalk\")\n",
        "    # print(y_train)\n",
        "\n",
        "    y_before_train = y_train\n",
        "    y_before_test = y_test\n",
        "\n",
        "    y_train = label_binarize(y_train, classes=[1, 2, 3])\n",
        "    y_test = label_binarize(y_test, classes=[1, 2, 3])\n",
        "\n",
        "    n_classes = y_train.shape[1]\n",
        "\n",
        "    classifier.fit(X_train, y_train)\n",
        "\n",
        "    y_pred = classifier.predict(X_test)\n",
        "\n",
        "    # print(\"Before\")\n",
        "\n",
        "    y_score = y_pred\n",
        "    # print(\"Y_Cscore\", y_score)\n",
        "    # Compute ROC curve and ROC area for each class\n",
        "    fpr = dict()\n",
        "    tpr = dict()\n",
        "    roc_auc = dict()\n",
        "    for i in range(n_classes):\n",
        "        fpr[i], tpr[i], _ = roc_curve(y_test[:, i], y_score[:, i])\n",
        "        roc_auc[i] = auc(fpr[i], tpr[i])\n",
        "    \n",
        "    all_fprs.append(fpr)\n",
        "    all_tprs.append(tpr)\n",
        "    all_roc_aucs.append(roc_auc)\n",
        "\n",
        "    # print(\"1\", y_before_train)\n",
        "    # print('22', y_before_test)\n",
        "\n",
        "    # To get the metrics\n",
        "    # y_before_train = y_before_train.reshape(-1, 1)\n",
        "    clf.fit(X_train, y_before_train)\n",
        "  \n",
        "    un_y_pred = clf.predict(X_test)\n",
        "  \n",
        "    # Calculating accuracy score\n",
        "    accuracy_scores.append(accuracy_score(y_before_test, un_y_pred))\n",
        "\n",
        "    # Calculating confusion matrix\n",
        "    cmf = multilabel_confusion_matrix(y_before_test, un_y_pred)\n",
        "    conf_matrixes.append(cmf)\n",
        "\n",
        "    actual_classes = np.append(actual_classes, y_before_test)\n",
        "    predicted_classes = np.append(predicted_classes, un_y_pred)\n",
        "\n",
        "    # Calculating values for the ROC Curve\n",
        "    "
      ]
    },
    {
      "cell_type": "markdown",
      "source": [
        "## Creating ROC graphs"
      ],
      "metadata": {
        "id": "_Ui4IV7FABOz"
      }
    },
    {
      "cell_type": "code",
      "source": [
        "# Creating values for each classes\n",
        "\n",
        "class_1_fpr = list()\n",
        "class_2_fpr = list()\n",
        "class_3_fpr = list()\n",
        "\n",
        "class_1_tpr = list()\n",
        "class_2_tpr = list()\n",
        "class_3_tpr = list()\n",
        "\n",
        "class_1_roc_auc = list()\n",
        "class_2_roc_auc = list()\n",
        "class_3_roc_auc = list()\n",
        "\n",
        "for x in range(5):\n",
        "  class_1_fpr.append(all_fprs[x][0])\n",
        "  class_2_fpr.append(all_fprs[x][1])\n",
        "  class_3_fpr.append(all_fprs[x][2])\n",
        "\n",
        "  class_1_tpr.append(all_tprs[x][0])\n",
        "  class_2_tpr.append(all_tprs[x][1])\n",
        "  class_3_tpr.append(all_tprs[x][2])\n",
        "\n",
        "  class_1_roc_auc.append(all_roc_aucs[x][0])\n",
        "  class_2_roc_auc.append(all_roc_aucs[x][1])\n",
        "  class_3_roc_auc.append(all_roc_aucs[x][2])"
      ],
      "metadata": {
        "id": "rlUmZ7oMABO0"
      },
      "execution_count": 45,
      "outputs": []
    },
    {
      "cell_type": "code",
      "source": [
        "plt.figure()\n",
        "lw = 2\n",
        "plt.plot(\n",
        "    class_1_fpr[0],\n",
        "    class_1_tpr[0],\n",
        "    color=\"darkorange\",\n",
        "    lw=lw,\n",
        "    label=\"ROC curve fold 1(AUC = %0.2f)\" % class_1_roc_auc[0],\n",
        ")\n",
        "plt.plot(\n",
        "    class_1_fpr[1],\n",
        "    class_1_tpr[1],\n",
        "    color=\"red\",\n",
        "    lw=lw,\n",
        "    label=\"ROC curve fold 2 (AUC = %0.2f)\" % class_1_roc_auc[1],\n",
        ")\n",
        "plt.plot(\n",
        "    class_1_fpr[2],\n",
        "    class_1_tpr[2],\n",
        "    color=\"blue\",\n",
        "    lw=lw,\n",
        "    label=\"ROC curve fold 3 (AUC = %0.2f)\" % class_1_roc_auc[2],\n",
        ")\n",
        "plt.plot(\n",
        "    class_1_fpr[3],\n",
        "    class_1_tpr[3],\n",
        "    color=\"green\",\n",
        "    lw=lw,\n",
        "    label=\"ROC curve fold 4 (AUC = %0.2f)\" % class_1_roc_auc[3],\n",
        ")\n",
        "\n",
        "plt.plot(\n",
        "    class_1_fpr[4],\n",
        "    class_1_tpr[4],\n",
        "    color=\"brown\",\n",
        "    lw=lw,\n",
        "    label=\"ROC curve fold 5 (AUC = %0.2f)\" % class_1_roc_auc[4],\n",
        ")\n",
        "\n",
        "plt.plot([0, 1], [0, 1], color=\"navy\", lw=lw, linestyle=\"--\")\n",
        "plt.xlim([0.0, 1.0])\n",
        "plt.ylim([0.0, 1.05])\n",
        "plt.xlabel(\"False Positive Rate\")\n",
        "plt.ylabel(\"True Positive Rate\")\n",
        "plt.title(\"Class 1 ROC graphs\")\n",
        "plt.legend(loc=\"lower right\")\n",
        "plt.show()"
      ],
      "metadata": {
        "colab": {
          "base_uri": "https://localhost:8080/",
          "height": 295
        },
        "outputId": "7a43acf4-058b-4310-a5f6-aab2e2dec613",
        "id": "fhaOdF3OABO0"
      },
      "execution_count": 46,
      "outputs": [
        {
          "output_type": "display_data",
          "data": {
            "text/plain": [
              "<Figure size 432x288 with 1 Axes>"
            ],
            "image/png": "[encoded data removed]"
          },
          "metadata": {
            "needs_background": "light"
          }
        }
      ]
    },
    {
      "cell_type": "code",
      "source": [
        "plt.figure()\n",
        "lw = 2\n",
        "plt.plot(\n",
        "    class_2_fpr[0],\n",
        "    class_2_tpr[0],\n",
        "    color=\"darkorange\",\n",
        "    lw=lw,\n",
        "    label=\"ROC curve fold 1(AUC = %0.2f)\" % class_2_roc_auc[0],\n",
        ")\n",
        "plt.plot(\n",
        "    class_2_fpr[1],\n",
        "    class_2_tpr[1],\n",
        "    color=\"red\",\n",
        "    lw=lw,\n",
        "    label=\"ROC curve fold 2 (AUC = %0.2f)\" % class_2_roc_auc[1],\n",
        ")\n",
        "plt.plot(\n",
        "    class_2_fpr[2],\n",
        "    class_2_tpr[2],\n",
        "    color=\"blue\",\n",
        "    lw=lw,\n",
        "    label=\"ROC curve fold 3 (AUC = %0.2f)\" % class_2_roc_auc[2],\n",
        ")\n",
        "plt.plot(\n",
        "    class_2_fpr[3],\n",
        "    class_2_tpr[3],\n",
        "    color=\"green\",\n",
        "    lw=lw,\n",
        "    label=\"ROC curve fold 4 (AUC = %0.2f)\" % class_2_roc_auc[3],\n",
        ")\n",
        "\n",
        "plt.plot(\n",
        "    class_2_fpr[4],\n",
        "    class_2_tpr[4],\n",
        "    color=\"brown\",\n",
        "    lw=lw,\n",
        "    label=\"ROC curve fold 5 (AUC = %0.2f)\" % class_2_roc_auc[4],\n",
        ")\n",
        "\n",
        "plt.plot([0, 1], [0, 1], color=\"navy\", lw=lw, linestyle=\"--\")\n",
        "plt.xlim([0.0, 1.0])\n",
        "plt.ylim([0.0, 1.05])\n",
        "plt.xlabel(\"False Positive Rate\")\n",
        "plt.ylabel(\"True Positive Rate\")\n",
        "plt.title(\"Class 2 ROC graphs\")\n",
        "plt.legend(loc=\"lower right\")\n",
        "plt.show()"
      ],
      "metadata": {
        "colab": {
          "base_uri": "https://localhost:8080/",
          "height": 295
        },
        "outputId": "d3a96a09-b8c3-4fce-e9e1-2001bfd2691e",
        "id": "d0U2rJeGABO0"
      },
      "execution_count": 33,
      "outputs": [
        {
          "output_type": "display_data",
          "data": {
            "text/plain": [
              "<Figure size 432x288 with 1 Axes>"
            ],
            "image/png": "[encoded data removed]"
          },
          "metadata": {
            "needs_background": "light"
          }
        }
      ]
    },
    {
      "cell_type": "code",
      "source": [
        "plt.figure()\n",
        "lw = 2\n",
        "plt.plot(\n",
        "    class_3_fpr[0],\n",
        "    class_3_tpr[0],\n",
        "    color=\"darkorange\",\n",
        "    lw=lw,\n",
        "    label=\"ROC curve fold 1(AUC = %0.2f)\" % class_3_roc_auc[0],\n",
        ")\n",
        "plt.plot(\n",
        "    class_3_fpr[1],\n",
        "    class_3_tpr[1],\n",
        "    color=\"red\",\n",
        "    lw=lw,\n",
        "    label=\"ROC curve fold 2 (AUC = %0.2f)\" % class_3_roc_auc[1],\n",
        ")\n",
        "plt.plot(\n",
        "    class_3_fpr[2],\n",
        "    class_3_tpr[2],\n",
        "    color=\"blue\",\n",
        "    lw=lw,\n",
        "    label=\"ROC curve fold 3 (AUC = %0.2f)\" % class_3_roc_auc[2],\n",
        ")\n",
        "plt.plot(\n",
        "    class_3_fpr[3],\n",
        "    class_3_tpr[3],\n",
        "    color=\"green\",\n",
        "    lw=lw,\n",
        "    label=\"ROC curve fold 4 (AUC = %0.2f)\" % class_3_roc_auc[3],\n",
        ")\n",
        "\n",
        "plt.plot(\n",
        "    class_3_fpr[4],\n",
        "    class_3_tpr[4],\n",
        "    color=\"brown\",\n",
        "    lw=lw,\n",
        "    label=\"ROC curve fold 5 (AUC = %0.2f)\" % class_3_roc_auc[4],\n",
        ")\n",
        "\n",
        "plt.plot([0, 1], [0, 1], color=\"navy\", lw=lw, linestyle=\"--\")\n",
        "plt.xlim([0.0, 1.0])\n",
        "plt.ylim([0.0, 1.05])\n",
        "plt.xlabel(\"False Positive Rate\")\n",
        "plt.ylabel(\"True Positive Rate\")\n",
        "plt.title(\"Class 3 ROC graphs\")\n",
        "plt.legend(loc=\"lower right\")\n",
        "plt.show()"
      ],
      "metadata": {
        "colab": {
          "base_uri": "https://localhost:8080/",
          "height": 295
        },
        "outputId": "c27f75de-818b-4d32-8254-425590e9f84a",
        "id": "LJbjezUJABO1"
      },
      "execution_count": 34,
      "outputs": [
        {
          "output_type": "display_data",
          "data": {
            "text/plain": [
              "<Figure size 432x288 with 1 Axes>"
            ],
            "image/png": "[encoded data removed]"
          },
          "metadata": {
            "needs_background": "light"
          }
        }
      ]
    },
    {
      "cell_type": "code",
      "source": [
        "cm = multilabel_confusion_matrix(actual_classes, predicted_classes)\n",
        "\n",
        "res = []\n",
        "\n",
        "for l in [0,1,2]:\n",
        "    x = cm[l]\n",
        "    tn, fp = x[0]\n",
        "    fn, tp = x[1]\n",
        "    sensitivity = tp / (tp + fn)\n",
        "    specificity = tn / (tn + fp)\n",
        "    precision = tp / (tp + fp)\n",
        "    f1 = (2 * precision * sensitivity) / (precision + sensitivity)\n",
        "    res.append([l+1,sensitivity, specificity, f1])\n",
        "\n",
        "frame = pd.DataFrame(res, columns = ['Class','Sensitivity(Recall)','Specificity', 'F1 score'])\n",
        "\n",
        "total_accuracy = accuracy_score(actual_classes, predicted_classes)\n",
        "print(\"The total accuracy is\", total_accuracy)"
      ],
      "metadata": {
        "colab": {
          "base_uri": "https://localhost:8080/"
        },
        "outputId": "9487a2d5-b72e-462e-b993-03254d13e559",
        "id": "d1cu7ix0ABO1"
      },
      "execution_count": 35,
      "outputs": [
        {
          "output_type": "stream",
          "name": "stdout",
          "text": [
            "The total accuracy is 0.3333333333333333\n"
          ]
        }
      ]
    },
    {
      "cell_type": "code",
      "source": [
        "frame"
      ],
      "metadata": {
        "colab": {
          "base_uri": "https://localhost:8080/",
          "height": 143
        },
        "outputId": "6d7d5a07-1c62-4953-a318-e5d0d1b94190",
        "id": "FvscnWI0ABO1"
      },
      "execution_count": 29,
      "outputs": [
        {
          "output_type": "execute_result",
          "data": {
            "text/plain": [
              "   Class  Sensitivity(Recall)  Specificity  F1 score\n",
              "0      1                  0.4          0.6  0.363636\n",
              "1      2                  0.0          1.0       NaN\n",
              "2      3                  0.6          0.4  0.428571"
            ],
            "text/html": [
              "\n",
              "  <div id=\"df-aa954a29-bef1-4a39-af3b-90305562d830\">\n",
              "    <div class=\"colab-df-container\">\n",
              "      <div>\n",
              "<style scoped>\n",
              "    .dataframe tbody tr th:only-of-type {\n",
              "        vertical-align: middle;\n",
              "    }\n",
              "\n",
              "    .dataframe tbody tr th {\n",
              "        vertical-align: top;\n",
              "    }\n",
              "\n",
              "    .dataframe thead th {\n",
              "        text-align: right;\n",
              "    }\n",
              "</style>\n",
              "<table border=\"1\" class=\"dataframe\">\n",
              "  <thead>\n",
              "    <tr style=\"text-align: right;\">\n",
              "      <th></th>\n",
              "      <th>Class</th>\n",
              "      <th>Sensitivity(Recall)</th>\n",
              "      <th>Specificity</th>\n",
              "      <th>F1 score</th>\n",
              "    </tr>\n",
              "  </thead>\n",
              "  <tbody>\n",
              "    <tr>\n",
              "      <th>0</th>\n",
              "      <td>1</td>\n",
              "      <td>0.4</td>\n",
              "      <td>0.6</td>\n",
              "      <td>0.363636</td>\n",
              "    </tr>\n",
              "    <tr>\n",
              "      <th>1</th>\n",
              "      <td>2</td>\n",
              "      <td>0.0</td>\n",
              "      <td>1.0</td>\n",
              "      <td>NaN</td>\n",
              "    </tr>\n",
              "    <tr>\n",
              "      <th>2</th>\n",
              "      <td>3</td>\n",
              "      <td>0.6</td>\n",
              "      <td>0.4</td>\n",
              "      <td>0.428571</td>\n",
              "    </tr>\n",
              "  </tbody>\n",
              "</table>\n",
              "</div>\n",
              "      <button class=\"colab-df-convert\" onclick=\"convertToInteractive('df-aa954a29-bef1-4a39-af3b-90305562d830')\"\n",
              "              title=\"Convert this dataframe to an interactive table.\"\n",
              "              style=\"display:none;\">\n",
              "        \n",
              "  <svg xmlns=\"http://www.w3.org/2000/svg\" height=\"24px\"viewBox=\"0 0 24 24\"\n",
              "       width=\"24px\">\n",
              "    <path d=\"M0 0h24v24H0V0z\" fill=\"none\"/>\n",
              "    <path d=\"M18.56 5.44l.94 2.06.94-2.06 2.06-.94-2.06-.94-.94-2.06-.94 2.06-2.06.94zm-11 1L8.5 8.5l.94-2.06 2.06-.94-2.06-.94L8.5 2.5l-.94 2.06-2.06.94zm10 10l.94 2.06.94-2.06 2.06-.94-2.06-.94-.94-2.06-.94 2.06-2.06.94z\"/><path d=\"M17.41 7.96l-1.37-1.37c-.4-.4-.92-.59-1.43-.59-.52 0-1.04.2-1.43.59L10.3 9.45l-7.72 7.72c-.78.78-.78 2.05 0 2.83L4 21.41c.39.39.9.59 1.41.59.51 0 1.02-.2 1.41-.59l7.78-7.78 2.81-2.81c.8-.78.8-2.07 0-2.86zM5.41 20L4 18.59l7.72-7.72 1.47 1.35L5.41 20z\"/>\n",
              "  </svg>\n",
              "      </button>\n",
              "      \n",
              "  <style>\n",
              "    .colab-df-container {\n",
              "      display:flex;\n",
              "      flex-wrap:wrap;\n",
              "      gap: 12px;\n",
              "    }\n",
              "\n",
              "    .colab-df-convert {\n",
              "      background-color: #E8F0FE;\n",
              "      border: none;\n",
              "      border-radius: 50%;\n",
              "      cursor: pointer;\n",
              "      display: none;\n",
              "      fill: #1967D2;\n",
              "      height: 32px;\n",
              "      padding: 0 0 0 0;\n",
              "      width: 32px;\n",
              "    }\n",
              "\n",
              "    .colab-df-convert:hover {\n",
              "      background-color: #E2EBFA;\n",
              "      box-shadow: 0px 1px 2px rgba(60, 64, 67, 0.3), 0px 1px 3px 1px rgba(60, 64, 67, 0.15);\n",
              "      fill: #174EA6;\n",
              "    }\n",
              "\n",
              "    [theme=dark] .colab-df-convert {\n",
              "      background-color: #3B4455;\n",
              "      fill: #D2E3FC;\n",
              "    }\n",
              "\n",
              "    [theme=dark] .colab-df-convert:hover {\n",
              "      background-color: #434B5C;\n",
              "      box-shadow: 0px 1px 3px 1px rgba(0, 0, 0, 0.15);\n",
              "      filter: drop-shadow(0px 1px 2px rgba(0, 0, 0, 0.3));\n",
              "      fill: #FFFFFF;\n",
              "    }\n",
              "  </style>\n",
              "\n",
              "      <script>\n",
              "        const buttonEl =\n",
              "          document.querySelector('#df-aa954a29-bef1-4a39-af3b-90305562d830 button.colab-df-convert');\n",
              "        buttonEl.style.display =\n",
              "          google.colab.kernel.accessAllowed ? 'block' : 'none';\n",
              "\n",
              "        async function convertToInteractive(key) {\n",
              "          const element = document.querySelector('#df-aa954a29-bef1-4a39-af3b-90305562d830');\n",
              "          const dataTable =\n",
              "            await google.colab.kernel.invokeFunction('convertToInteractive',\n",
              "                                                     [key], {});\n",
              "          if (!dataTable) return;\n",
              "\n",
              "          const docLinkHtml = 'Like what you see? Visit the ' +\n",
              "            '<a target=\"_blank\" href=https://colab.research.google.com/notebooks/data_table.ipynb>data table notebook</a>'\n",
              "            + ' to learn more about interactive tables.';\n",
              "          element.innerHTML = '';\n",
              "          dataTable['output_type'] = 'display_data';\n",
              "          await google.colab.output.renderOutput(dataTable, element);\n",
              "          const docLink = document.createElement('div');\n",
              "          docLink.innerHTML = docLinkHtml;\n",
              "          element.appendChild(docLink);\n",
              "        }\n",
              "      </script>\n",
              "    </div>\n",
              "  </div>\n",
              "  "
            ]
          },
          "metadata": {},
          "execution_count": 29
        }
      ]
    },
    {
      "cell_type": "code",
      "source": [
        ""
      ],
      "metadata": {
        "id": "0B5BPa5lABO2"
      },
      "execution_count": 29,
      "outputs": []
    }
  ],
  "metadata": {
    "interpreter": {
      "hash": "40d3a090f54c6569ab1632332b64b2c03c39dcf918b08424e98f38b5ae0af88f"
    },
    "kernelspec": {
      "display_name": "Python 3.8.8 ('base')",
      "language": "python",
      "name": "python3"
    },
    "language_info": {
      "codemirror_mode": {
        "name": "ipython",
        "version": 3
      },
      "file_extension": ".py",
      "mimetype": "text/x-python",
      "name": "python",
      "nbconvert_exporter": "python",
      "pygments_lexer": "ipython3",
      "version": "3.8.8"
    },
    "orig_nbformat": 4,
    "colab": {
      "name": "index.ipynb",
      "provenance": [],
      "include_colab_link": true
    }
  },
  "nbformat": 4,
  "nbformat_minor": 0
}