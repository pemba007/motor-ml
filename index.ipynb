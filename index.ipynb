{
  "cells": [
    {
      "cell_type": "markdown",
      "metadata": {
        "id": "view-in-github",
        "colab_type": "text"
      },
      "source": [
        "<a href=\"https://colab.research.google.com/github/pemba007/motor-ml/blob/main/index.ipynb\" target=\"_parent\"><img src=\"https://colab.research.google.com/assets/colab-badge.svg\" alt=\"Open In Colab\"/></a>"
      ]
    },
    {
      "cell_type": "code",
      "execution_count": 2,
      "metadata": {
        "id": "OmrxsrXECTeL"
      },
      "outputs": [],
      "source": [
        "import pandas as pd\n",
        "import seaborn as sns\n",
        "import matplotlib.pyplot as plt\n",
        "import numpy as np\n",
        "\n",
        "df = pd.read_csv('./accelerometer.csv')"
      ]
    },
    {
      "cell_type": "code",
      "execution_count": 3,
      "metadata": {
        "colab": {
          "base_uri": "https://localhost:8080/"
        },
        "id": "58S2i9xgCTeS",
        "outputId": "67b2474d-00b9-44c0-84b8-2fe84c9093ee"
      },
      "outputs": [
        {
          "output_type": "execute_result",
          "data": {
            "text/plain": [
              "(153000, 5)"
            ]
          },
          "metadata": {},
          "execution_count": 3
        }
      ],
      "source": [
        "df.shape"
      ]
    },
    {
      "cell_type": "code",
      "execution_count": 4,
      "metadata": {
        "id": "pDVDflf3CTeX"
      },
      "outputs": [],
      "source": [
        "# Remove later\n",
        "\n",
        "# df = df.iloc[:1000,:]"
      ]
    },
    {
      "cell_type": "code",
      "execution_count": 5,
      "metadata": {
        "colab": {
          "base_uri": "https://localhost:8080/"
        },
        "id": "x86xG0jECTeY",
        "outputId": "888b4577-6174-434c-81d7-d0f4d712126e"
      },
      "outputs": [
        {
          "output_type": "execute_result",
          "data": {
            "text/plain": [
              "(153000, 5)"
            ]
          },
          "metadata": {},
          "execution_count": 5
        }
      ],
      "source": [
        "df.shape"
      ]
    },
    {
      "cell_type": "code",
      "execution_count": 6,
      "metadata": {
        "colab": {
          "base_uri": "https://localhost:8080/",
          "height": 300
        },
        "id": "Bd5Z1cpvCTeZ",
        "outputId": "c09c8377-03e2-48e3-b60b-d33f5b808190"
      },
      "outputs": [
        {
          "output_type": "execute_result",
          "data": {
            "text/plain": [
              "             wconfid          pctid              x              y  \\\n",
              "count  153000.000000  153000.000000  153000.000000  153000.000000   \n",
              "mean        2.000000      60.000000       0.995622       0.005351   \n",
              "std         0.816499      24.494977       0.773958       0.742602   \n",
              "min         1.000000      20.000000      -8.000000      -8.000000   \n",
              "25%         1.000000      40.000000       0.945000      -0.078000   \n",
              "50%         2.000000      60.000000       0.992000       0.008000   \n",
              "75%         3.000000      80.000000       1.039000       0.105000   \n",
              "max         3.000000     100.000000       7.996000       7.996000   \n",
              "\n",
              "                   z  \n",
              "count  153000.000000  \n",
              "mean       -0.117769  \n",
              "std         0.517008  \n",
              "min        -5.867000  \n",
              "25%        -0.172000  \n",
              "50%        -0.125000  \n",
              "75%        -0.066000  \n",
              "max         6.086000  "
            ],
            "text/html": [
              "\n",
              "  <div id=\"df-a1e39d4f-c5f6-4f26-8f2b-86d511325484\">\n",
              "    <div class=\"colab-df-container\">\n",
              "      <div>\n",
              "<style scoped>\n",
              "    .dataframe tbody tr th:only-of-type {\n",
              "        vertical-align: middle;\n",
              "    }\n",
              "\n",
              "    .dataframe tbody tr th {\n",
              "        vertical-align: top;\n",
              "    }\n",
              "\n",
              "    .dataframe thead th {\n",
              "        text-align: right;\n",
              "    }\n",
              "</style>\n",
              "<table border=\"1\" class=\"dataframe\">\n",
              "  <thead>\n",
              "    <tr style=\"text-align: right;\">\n",
              "      <th></th>\n",
              "      <th>wconfid</th>\n",
              "      <th>pctid</th>\n",
              "      <th>x</th>\n",
              "      <th>y</th>\n",
              "      <th>z</th>\n",
              "    </tr>\n",
              "  </thead>\n",
              "  <tbody>\n",
              "    <tr>\n",
              "      <th>count</th>\n",
              "      <td>153000.000000</td>\n",
              "      <td>153000.000000</td>\n",
              "      <td>153000.000000</td>\n",
              "      <td>153000.000000</td>\n",
              "      <td>153000.000000</td>\n",
              "    </tr>\n",
              "    <tr>\n",
              "      <th>mean</th>\n",
              "      <td>2.000000</td>\n",
              "      <td>60.000000</td>\n",
              "      <td>0.995622</td>\n",
              "      <td>0.005351</td>\n",
              "      <td>-0.117769</td>\n",
              "    </tr>\n",
              "    <tr>\n",
              "      <th>std</th>\n",
              "      <td>0.816499</td>\n",
              "      <td>24.494977</td>\n",
              "      <td>0.773958</td>\n",
              "      <td>0.742602</td>\n",
              "      <td>0.517008</td>\n",
              "    </tr>\n",
              "    <tr>\n",
              "      <th>min</th>\n",
              "      <td>1.000000</td>\n",
              "      <td>20.000000</td>\n",
              "      <td>-8.000000</td>\n",
              "      <td>-8.000000</td>\n",
              "      <td>-5.867000</td>\n",
              "    </tr>\n",
              "    <tr>\n",
              "      <th>25%</th>\n",
              "      <td>1.000000</td>\n",
              "      <td>40.000000</td>\n",
              "      <td>0.945000</td>\n",
              "      <td>-0.078000</td>\n",
              "      <td>-0.172000</td>\n",
              "    </tr>\n",
              "    <tr>\n",
              "      <th>50%</th>\n",
              "      <td>2.000000</td>\n",
              "      <td>60.000000</td>\n",
              "      <td>0.992000</td>\n",
              "      <td>0.008000</td>\n",
              "      <td>-0.125000</td>\n",
              "    </tr>\n",
              "    <tr>\n",
              "      <th>75%</th>\n",
              "      <td>3.000000</td>\n",
              "      <td>80.000000</td>\n",
              "      <td>1.039000</td>\n",
              "      <td>0.105000</td>\n",
              "      <td>-0.066000</td>\n",
              "    </tr>\n",
              "    <tr>\n",
              "      <th>max</th>\n",
              "      <td>3.000000</td>\n",
              "      <td>100.000000</td>\n",
              "      <td>7.996000</td>\n",
              "      <td>7.996000</td>\n",
              "      <td>6.086000</td>\n",
              "    </tr>\n",
              "  </tbody>\n",
              "</table>\n",
              "</div>\n",
              "      <button class=\"colab-df-convert\" onclick=\"convertToInteractive('df-a1e39d4f-c5f6-4f26-8f2b-86d511325484')\"\n",
              "              title=\"Convert this dataframe to an interactive table.\"\n",
              "              style=\"display:none;\">\n",
              "        \n",
              "  <svg xmlns=\"http://www.w3.org/2000/svg\" height=\"24px\"viewBox=\"0 0 24 24\"\n",
              "       width=\"24px\">\n",
              "    <path d=\"M0 0h24v24H0V0z\" fill=\"none\"/>\n",
              "    <path d=\"M18.56 5.44l.94 2.06.94-2.06 2.06-.94-2.06-.94-.94-2.06-.94 2.06-2.06.94zm-11 1L8.5 8.5l.94-2.06 2.06-.94-2.06-.94L8.5 2.5l-.94 2.06-2.06.94zm10 10l.94 2.06.94-2.06 2.06-.94-2.06-.94-.94-2.06-.94 2.06-2.06.94z\"/><path d=\"M17.41 7.96l-1.37-1.37c-.4-.4-.92-.59-1.43-.59-.52 0-1.04.2-1.43.59L10.3 9.45l-7.72 7.72c-.78.78-.78 2.05 0 2.83L4 21.41c.39.39.9.59 1.41.59.51 0 1.02-.2 1.41-.59l7.78-7.78 2.81-2.81c.8-.78.8-2.07 0-2.86zM5.41 20L4 18.59l7.72-7.72 1.47 1.35L5.41 20z\"/>\n",
              "  </svg>\n",
              "      </button>\n",
              "      \n",
              "  <style>\n",
              "    .colab-df-container {\n",
              "      display:flex;\n",
              "      flex-wrap:wrap;\n",
              "      gap: 12px;\n",
              "    }\n",
              "\n",
              "    .colab-df-convert {\n",
              "      background-color: #E8F0FE;\n",
              "      border: none;\n",
              "      border-radius: 50%;\n",
              "      cursor: pointer;\n",
              "      display: none;\n",
              "      fill: #1967D2;\n",
              "      height: 32px;\n",
              "      padding: 0 0 0 0;\n",
              "      width: 32px;\n",
              "    }\n",
              "\n",
              "    .colab-df-convert:hover {\n",
              "      background-color: #E2EBFA;\n",
              "      box-shadow: 0px 1px 2px rgba(60, 64, 67, 0.3), 0px 1px 3px 1px rgba(60, 64, 67, 0.15);\n",
              "      fill: #174EA6;\n",
              "    }\n",
              "\n",
              "    [theme=dark] .colab-df-convert {\n",
              "      background-color: #3B4455;\n",
              "      fill: #D2E3FC;\n",
              "    }\n",
              "\n",
              "    [theme=dark] .colab-df-convert:hover {\n",
              "      background-color: #434B5C;\n",
              "      box-shadow: 0px 1px 3px 1px rgba(0, 0, 0, 0.15);\n",
              "      filter: drop-shadow(0px 1px 2px rgba(0, 0, 0, 0.3));\n",
              "      fill: #FFFFFF;\n",
              "    }\n",
              "  </style>\n",
              "\n",
              "      <script>\n",
              "        const buttonEl =\n",
              "          document.querySelector('#df-a1e39d4f-c5f6-4f26-8f2b-86d511325484 button.colab-df-convert');\n",
              "        buttonEl.style.display =\n",
              "          google.colab.kernel.accessAllowed ? 'block' : 'none';\n",
              "\n",
              "        async function convertToInteractive(key) {\n",
              "          const element = document.querySelector('#df-a1e39d4f-c5f6-4f26-8f2b-86d511325484');\n",
              "          const dataTable =\n",
              "            await google.colab.kernel.invokeFunction('convertToInteractive',\n",
              "                                                     [key], {});\n",
              "          if (!dataTable) return;\n",
              "\n",
              "          const docLinkHtml = 'Like what you see? Visit the ' +\n",
              "            '<a target=\"_blank\" href=https://colab.research.google.com/notebooks/data_table.ipynb>data table notebook</a>'\n",
              "            + ' to learn more about interactive tables.';\n",
              "          element.innerHTML = '';\n",
              "          dataTable['output_type'] = 'display_data';\n",
              "          await google.colab.output.renderOutput(dataTable, element);\n",
              "          const docLink = document.createElement('div');\n",
              "          docLink.innerHTML = docLinkHtml;\n",
              "          element.appendChild(docLink);\n",
              "        }\n",
              "      </script>\n",
              "    </div>\n",
              "  </div>\n",
              "  "
            ]
          },
          "metadata": {},
          "execution_count": 6
        }
      ],
      "source": [
        "df.describe()"
      ]
    },
    {
      "cell_type": "markdown",
      "source": [
        "# New Section"
      ],
      "metadata": {
        "id": "VI-JkQFInz-8"
      }
    },
    {
      "cell_type": "code",
      "execution_count": 7,
      "metadata": {
        "colab": {
          "base_uri": "https://localhost:8080/"
        },
        "id": "CQSEFqu4CTeb",
        "outputId": "2c7e542e-3794-41ce-ea8c-e63c7d11bc35"
      },
      "outputs": [
        {
          "output_type": "stream",
          "name": "stdout",
          "text": [
            "Unique values in wconfid [1 2 3]\n",
            "Unique values in pctid [ 20  25  30  35  40  45  50  55  60  65  70  75  80  85  90  95 100]\n"
          ]
        }
      ],
      "source": [
        "# Unique values in wconfid, pctid\n",
        "print(\"Unique values in wconfid\", df['wconfid'].unique())\n",
        "print(\"Unique values in pctid\", df['pctid'].unique())"
      ]
    },
    {
      "cell_type": "code",
      "execution_count": 8,
      "metadata": {
        "colab": {
          "base_uri": "https://localhost:8080/",
          "height": 386
        },
        "id": "ba4_Vel3CTec",
        "outputId": "dc1ca4d7-55f4-455a-9533-29617f9f7e83"
      },
      "outputs": [
        {
          "output_type": "execute_result",
          "data": {
            "text/plain": [
              "<seaborn.axisgrid.FacetGrid at 0x7f603bef81d0>"
            ]
          },
          "metadata": {},
          "execution_count": 8
        },
        {
          "output_type": "display_data",
          "data": {
            "text/plain": [
              "<Figure size 360x360 with 1 Axes>"
            ],
            "image/png": "[encoded data removed]"
          },
          "metadata": {
            "needs_background": "light"
          }
        }
      ],
      "source": [
        "sns.displot(x = df['x'], kind='kde')"
      ]
    },
    {
      "cell_type": "code",
      "execution_count": 9,
      "metadata": {
        "colab": {
          "base_uri": "https://localhost:8080/",
          "height": 386
        },
        "id": "JPhEMDOQCTee",
        "outputId": "3cf6df50-c908-46ed-bf61-d5a26a7c4f45"
      },
      "outputs": [
        {
          "output_type": "execute_result",
          "data": {
            "text/plain": [
              "<seaborn.axisgrid.FacetGrid at 0x7f603bef3d10>"
            ]
          },
          "metadata": {},
          "execution_count": 9
        },
        {
          "output_type": "display_data",
          "data": {
            "text/plain": [
              "<Figure size 360x360 with 1 Axes>"
            ],
            "image/png": "[encoded data removed]"
          },
          "metadata": {
            "needs_background": "light"
          }
        }
      ],
      "source": [
        "sns.displot(x = df['y'], kind='kde')"
      ]
    },
    {
      "cell_type": "code",
      "execution_count": 10,
      "metadata": {
        "colab": {
          "base_uri": "https://localhost:8080/",
          "height": 386
        },
        "id": "5PlDzUFkCTef",
        "outputId": "70408dc1-54b2-440a-a1ea-8a54b26448c7"
      },
      "outputs": [
        {
          "output_type": "execute_result",
          "data": {
            "text/plain": [
              "<seaborn.axisgrid.FacetGrid at 0x7f60375df110>"
            ]
          },
          "metadata": {},
          "execution_count": 10
        },
        {
          "output_type": "display_data",
          "data": {
            "text/plain": [
              "<Figure size 360x360 with 1 Axes>"
            ],
            "image/png": "[encoded data removed]"
          },
          "metadata": {
            "needs_background": "light"
          }
        }
      ],
      "source": [
        "sns.displot(x = df['z'], kind='kde')"
      ]
    },
    {
      "cell_type": "code",
      "execution_count": 11,
      "metadata": {
        "id": "FKDJaOKBCTeh"
      },
      "outputs": [],
      "source": [
        "# Separating target variable\n",
        "y = df['wconfid']\n",
        "df.drop(columns=['wconfid'], inplace=True)"
      ]
    },
    {
      "cell_type": "code",
      "source": [
        "import warnings\n",
        "warnings.filterwarnings(\"ignore\")"
      ],
      "metadata": {
        "id": "0SISKEatQTrM"
      },
      "execution_count": 12,
      "outputs": []
    },
    {
      "cell_type": "code",
      "source": [
        "def delinearize(arr):\n",
        "  temp = list()\n",
        "  for x in arr:\n",
        "    temp.append(np.where(x == 1)[0][0])\n",
        "  return temp\n"
      ],
      "metadata": {
        "id": "MqE2adlhVZEI"
      },
      "execution_count": 13,
      "outputs": []
    },
    {
      "cell_type": "markdown",
      "metadata": {
        "id": "IuOMcHAlCTej"
      },
      "source": [
        "# Implementing ANN with 5 fold"
      ]
    },
    {
      "cell_type": "code",
      "execution_count": 14,
      "metadata": {
        "colab": {
          "base_uri": "https://localhost:8080/"
        },
        "id": "UKB-ZzTSCTeo",
        "outputId": "a0f52cc2-e373-4b5a-b57f-f1f44379ac21"
      },
      "outputs": [
        {
          "output_type": "stream",
          "name": "stdout",
          "text": [
            "TRAIN: [ 10200  10201  10202 ... 152997 152998 152999] TEST: [     0      1      2 ... 112197 112198 112199]\n",
            "2\n",
            "3\n",
            "TRAIN: [     0      1      2 ... 152997 152998 152999] TEST: [ 10200  10201  10202 ... 122397 122398 122399]\n",
            "2\n",
            "3\n",
            "TRAIN: [     0      1      2 ... 152997 152998 152999] TEST: [ 20400  20401  20402 ... 132597 132598 132599]\n",
            "2\n",
            "3\n",
            "TRAIN: [     0      1      2 ... 152997 152998 152999] TEST: [ 30600  30601  30602 ... 142797 142798 142799]\n",
            "2\n",
            "3\n",
            "TRAIN: [     0      1      2 ... 142797 142798 142799] TEST: [ 40800  40801  40802 ... 152997 152998 152999]\n",
            "2\n",
            "3\n"
          ]
        }
      ],
      "source": [
        "from sklearn.model_selection import StratifiedKFold\n",
        "from sklearn.neural_network import MLPClassifier\n",
        "from sklearn.model_selection import cross_val_predict\n",
        "from sklearn.preprocessing import label_binarize\n",
        "from sklearn.multiclass import OneVsRestClassifier\n",
        "from sklearn.metrics import accuracy_score, RocCurveDisplay, classification_report, auc, f1_score, multilabel_confusion_matrix,roc_curve, roc_auc_score\n",
        "\n",
        "skf = StratifiedKFold(n_splits=5)\n",
        "\n",
        "clf = MLPClassifier()\n",
        "\n",
        "classifier = OneVsRestClassifier(\n",
        "  clf\n",
        ")\n",
        "\n",
        "conf_matrixes = list()\n",
        "\n",
        "accuracy_scores = list()\n",
        "\n",
        "actual_classes = np.empty([0], dtype=int)\n",
        "predicted_classes = np.empty([0], dtype=int)\n",
        "\n",
        "all_fprs = list()\n",
        "all_tprs = list()\n",
        "all_roc_aucs = list()\n",
        "\n",
        "# for train_index, test_index in skf.split(df, y):\n",
        "for k, (train_index, test_index) in enumerate(skf.split(df, y)):\n",
        "    # print(\"Fold\", k)\n",
        "    print(\"TRAIN:\", train_index, \"TEST:\", test_index)\n",
        "    X_train, X_test = df.iloc[train_index,:], df.iloc[test_index,:]\n",
        "    y_train, y_test = y[train_index], y[test_index]\n",
        "\n",
        "    # print(\"ASdASKLjfalk\")\n",
        "    # print(y_train)\n",
        "\n",
        "    y_before_train = y_train\n",
        "    y_before_test = y_test\n",
        "\n",
        "    y_train = label_binarize(y_train, classes=[1, 2, 3])\n",
        "    y_test = label_binarize(y_test, classes=[1, 2, 3])\n",
        "\n",
        "    n_classes = y_train.shape[1]\n",
        "\n",
        "    classifier.fit(X_train, y_train)\n",
        "\n",
        "    y_pred = classifier.predict(X_test)\n",
        "\n",
        "    # print(\"Before\")\n",
        "\n",
        "    y_score = y_pred\n",
        "    # print(\"Y_Cscore\", y_score)\n",
        "    # Compute ROC curve and ROC area for each class\n",
        "    fpr = dict()\n",
        "    tpr = dict()\n",
        "    roc_auc = dict()\n",
        "    for i in range(n_classes):\n",
        "        fpr[i], tpr[i], _ = roc_curve(y_test[:, i], y_score[:, i])\n",
        "        roc_auc[i] = auc(fpr[i], tpr[i])\n",
        "    \n",
        "    all_fprs.append(fpr)\n",
        "    all_tprs.append(tpr)\n",
        "    all_roc_aucs.append(roc_auc)\n",
        "\n",
        "    # print(\"1\", y_before_train)\n",
        "    # print('22', y_before_test)\n",
        "\n",
        "    # To get the metrics\n",
        "    # y_before_train = y_before_train.reshape(-1, 1)\n",
        "    clf.fit(X_train, y_before_train)\n",
        "  \n",
        "    un_y_pred = clf.predict(X_test)\n",
        "    \n",
        "    print(\"2\")\n",
        "    # Calculating accuracy score\n",
        "    accuracy_scores.append(accuracy_score(y_before_test, un_y_pred))\n",
        "\n",
        "    print(\"3\")\n",
        "    # Calculating confusion matrix\n",
        "    cmf = multilabel_confusion_matrix(y_before_test, un_y_pred)\n",
        "    conf_matrixes.append(cmf)\n",
        "\n",
        "    actual_classes = np.append(actual_classes, y_before_test)\n",
        "    predicted_classes = np.append(predicted_classes, un_y_pred)\n",
        "\n",
        "    # Calculating values for the ROC Curve\n",
        "    "
      ]
    },
    {
      "cell_type": "markdown",
      "source": [
        "## Creating ROC graphs"
      ],
      "metadata": {
        "id": "e8qzJ1RV8qR_"
      }
    },
    {
      "cell_type": "code",
      "source": [
        "# Creating values for each classes\n",
        "\n",
        "class_1_fpr = list()\n",
        "class_2_fpr = list()\n",
        "class_3_fpr = list()\n",
        "\n",
        "class_1_tpr = list()\n",
        "class_2_tpr = list()\n",
        "class_3_tpr = list()\n",
        "\n",
        "class_1_roc_auc = list()\n",
        "class_2_roc_auc = list()\n",
        "class_3_roc_auc = list()\n",
        "\n",
        "for x in range(5):\n",
        "  class_1_fpr.append(all_fprs[x][0])\n",
        "  class_2_fpr.append(all_fprs[x][1])\n",
        "  class_3_fpr.append(all_fprs[x][2])\n",
        "\n",
        "  class_1_tpr.append(all_tprs[x][0])\n",
        "  class_2_tpr.append(all_tprs[x][1])\n",
        "  class_3_tpr.append(all_tprs[x][2])\n",
        "\n",
        "  class_1_roc_auc.append(all_roc_aucs[x][0])\n",
        "  class_2_roc_auc.append(all_roc_aucs[x][1])\n",
        "  class_3_roc_auc.append(all_roc_aucs[x][2])"
      ],
      "metadata": {
        "id": "huIZmU8R8cRC"
      },
      "execution_count": 15,
      "outputs": []
    },
    {
      "cell_type": "code",
      "source": [
        "plt.figure()\n",
        "lw = 2\n",
        "plt.plot(\n",
        "    class_1_fpr[0],\n",
        "    class_1_tpr[0],\n",
        "    color=\"darkorange\",\n",
        "    lw=lw,\n",
        "    label=\"ROC curve fold 1(area = %0.2f)\" % class_1_roc_auc[0],\n",
        ")\n",
        "plt.plot(\n",
        "    class_1_fpr[1],\n",
        "    class_1_tpr[1],\n",
        "    color=\"red\",\n",
        "    lw=lw,\n",
        "    label=\"ROC curve fold 2 (area = %0.2f)\" % class_1_roc_auc[1],\n",
        ")\n",
        "plt.plot(\n",
        "    class_1_fpr[2],\n",
        "    class_1_tpr[2],\n",
        "    color=\"blue\",\n",
        "    lw=lw,\n",
        "    label=\"ROC curve fold 3 (area = %0.2f)\" % class_1_roc_auc[2],\n",
        ")\n",
        "plt.plot(\n",
        "    class_1_fpr[3],\n",
        "    class_1_tpr[3],\n",
        "    color=\"green\",\n",
        "    lw=lw,\n",
        "    label=\"ROC curve fold 4 (area = %0.2f)\" % class_1_roc_auc[3],\n",
        ")\n",
        "\n",
        "plt.plot(\n",
        "    class_1_fpr[4],\n",
        "    class_1_tpr[4],\n",
        "    color=\"brown\",\n",
        "    lw=lw,\n",
        "    label=\"ROC curve fold 5 (area = %0.2f)\" % class_1_roc_auc[4],\n",
        ")\n",
        "\n",
        "plt.plot([0, 1], [0, 1], color=\"navy\", lw=lw, linestyle=\"--\")\n",
        "plt.xlim([0.0, 1.0])\n",
        "plt.ylim([0.0, 1.05])\n",
        "plt.xlabel(\"False Positive Rate\")\n",
        "plt.ylabel(\"True Positive Rate\")\n",
        "plt.title(\"Class 1 ROC graphs\")\n",
        "plt.legend(loc=\"lower right\")\n",
        "plt.show()"
      ],
      "metadata": {
        "id": "Are0vlK9Gspt",
        "outputId": "85d585c8-bf7e-49c2-f2af-6af1126f3f30",
        "colab": {
          "base_uri": "https://localhost:8080/",
          "height": 295
        }
      },
      "execution_count": 16,
      "outputs": [
        {
          "output_type": "display_data",
          "data": {
            "text/plain": [
              "<Figure size 432x288 with 1 Axes>"
            ],
            "image/png": "[encoded data removed]"
          },
          "metadata": {
            "needs_background": "light"
          }
        }
      ]
    },
    {
      "cell_type": "code",
      "source": [
        "plt.figure()\n",
        "lw = 2\n",
        "plt.plot(\n",
        "    class_2_fpr[0],\n",
        "    class_2_tpr[0],\n",
        "    color=\"darkorange\",\n",
        "    lw=lw,\n",
        "    label=\"ROC curve fold 1(area = %0.2f)\" % class_2_roc_auc[0],\n",
        ")\n",
        "plt.plot(\n",
        "    class_2_fpr[1],\n",
        "    class_2_tpr[1],\n",
        "    color=\"red\",\n",
        "    lw=lw,\n",
        "    label=\"ROC curve fold 2 (area = %0.2f)\" % class_2_roc_auc[1],\n",
        ")\n",
        "plt.plot(\n",
        "    class_2_fpr[2],\n",
        "    class_2_tpr[2],\n",
        "    color=\"blue\",\n",
        "    lw=lw,\n",
        "    label=\"ROC curve fold 3 (area = %0.2f)\" % class_2_roc_auc[2],\n",
        ")\n",
        "plt.plot(\n",
        "    class_2_fpr[3],\n",
        "    class_2_tpr[3],\n",
        "    color=\"green\",\n",
        "    lw=lw,\n",
        "    label=\"ROC curve fold 4 (area = %0.2f)\" % class_2_roc_auc[3],\n",
        ")\n",
        "\n",
        "plt.plot(\n",
        "    class_2_fpr[4],\n",
        "    class_2_tpr[4],\n",
        "    color=\"brown\",\n",
        "    lw=lw,\n",
        "    label=\"ROC curve fold 5 (area = %0.2f)\" % class_2_roc_auc[4],\n",
        ")\n",
        "\n",
        "plt.plot([0, 1], [0, 1], color=\"navy\", lw=lw, linestyle=\"--\")\n",
        "plt.xlim([0.0, 1.0])\n",
        "plt.ylim([0.0, 1.05])\n",
        "plt.xlabel(\"False Positive Rate\")\n",
        "plt.ylabel(\"True Positive Rate\")\n",
        "plt.title(\"Class 2 ROC graphs\")\n",
        "plt.legend(loc=\"lower right\")\n",
        "plt.show()"
      ],
      "metadata": {
        "id": "svAbQOoMMtor",
        "outputId": "97608afb-1266-467c-dec4-ab24d3abb504",
        "colab": {
          "base_uri": "https://localhost:8080/",
          "height": 295
        }
      },
      "execution_count": 17,
      "outputs": [
        {
          "output_type": "display_data",
          "data": {
            "text/plain": [
              "<Figure size 432x288 with 1 Axes>"
            ],
            "image/png": "[encoded data removed]"
          },
          "metadata": {
            "needs_background": "light"
          }
        }
      ]
    },
    {
      "cell_type": "code",
      "source": [
        "plt.figure()\n",
        "lw = 2\n",
        "plt.plot(\n",
        "    class_3_fpr[0],\n",
        "    class_3_tpr[0],\n",
        "    color=\"darkorange\",\n",
        "    lw=lw,\n",
        "    label=\"ROC curve fold 1(area = %0.2f)\" % class_3_roc_auc[0],\n",
        ")\n",
        "plt.plot(\n",
        "    class_3_fpr[1],\n",
        "    class_3_tpr[1],\n",
        "    color=\"red\",\n",
        "    lw=lw,\n",
        "    label=\"ROC curve fold 2 (area = %0.2f)\" % class_3_roc_auc[1],\n",
        ")\n",
        "plt.plot(\n",
        "    class_3_fpr[2],\n",
        "    class_3_tpr[2],\n",
        "    color=\"blue\",\n",
        "    lw=lw,\n",
        "    label=\"ROC curve fold 3 (area = %0.2f)\" % class_3_roc_auc[2],\n",
        ")\n",
        "plt.plot(\n",
        "    class_3_fpr[3],\n",
        "    class_3_tpr[3],\n",
        "    color=\"green\",\n",
        "    lw=lw,\n",
        "    label=\"ROC curve fold 4 (area = %0.2f)\" % class_3_roc_auc[3],\n",
        ")\n",
        "\n",
        "plt.plot(\n",
        "    class_3_fpr[4],\n",
        "    class_3_tpr[4],\n",
        "    color=\"brown\",\n",
        "    lw=lw,\n",
        "    label=\"ROC curve fold 5 (area = %0.2f)\" % class_3_roc_auc[4],\n",
        ")\n",
        "\n",
        "plt.plot([0, 1], [0, 1], color=\"navy\", lw=lw, linestyle=\"--\")\n",
        "plt.xlim([0.0, 1.0])\n",
        "plt.ylim([0.0, 1.05])\n",
        "plt.xlabel(\"False Positive Rate\")\n",
        "plt.ylabel(\"True Positive Rate\")\n",
        "plt.title(\"Class 3 ROC graphs\")\n",
        "plt.legend(loc=\"lower right\")\n",
        "plt.show()"
      ],
      "metadata": {
        "id": "AF7j-HSTNAYv",
        "outputId": "80f4332a-c635-4271-8c09-441d6bbe7119",
        "colab": {
          "base_uri": "https://localhost:8080/",
          "height": 295
        }
      },
      "execution_count": 18,
      "outputs": [
        {
          "output_type": "display_data",
          "data": {
            "text/plain": [
              "<Figure size 432x288 with 1 Axes>"
            ],
            "image/png": "[encoded data removed]"
          },
          "metadata": {
            "needs_background": "light"
          }
        }
      ]
    },
    {
      "cell_type": "code",
      "source": [
        "cm = multilabel_confusion_matrix(actual_classes, predicted_classes)\n",
        "\n",
        "res = []\n",
        "\n",
        "for l in [0,1,2]:\n",
        "    x = cm[l]\n",
        "    tn, fp = x[0]\n",
        "    fn, tp = x[1]\n",
        "    sensitivity = tp / (tp + fn)\n",
        "    specificity = tn / (tn + fp)\n",
        "    precision = tp / (tp + fp)\n",
        "    f1 = (2 * precision * sensitivity) / (precision + sensitivity)\n",
        "    res.append([l+1,sensitivity, specificity, f1])\n",
        "\n",
        "frame = pd.DataFrame(res, columns = ['Class','Sensitivity(Recall)','Specificity', 'F1 score'])\n",
        "\n",
        "total_accuracy = accuracy_score(actual_classes, predicted_classes)\n",
        "print(\"The total accuracy is\", total_accuracy)"
      ],
      "metadata": {
        "id": "-ZZk4ygAH2aW",
        "outputId": "b9516ba6-f476-4554-ce75-6ab8768b2dc3",
        "colab": {
          "base_uri": "https://localhost:8080/"
        }
      },
      "execution_count": 19,
      "outputs": [
        {
          "output_type": "stream",
          "name": "stdout",
          "text": [
            "The total accuracy is 0.5905751633986928\n"
          ]
        }
      ]
    },
    {
      "cell_type": "code",
      "source": [
        "print(frame)"
      ],
      "metadata": {
        "id": "fFBFp0WuS2XC",
        "outputId": "3d496ed5-0df0-4ee3-d270-bfb3140f5df2",
        "colab": {
          "base_uri": "https://localhost:8080/"
        }
      },
      "execution_count": 20,
      "outputs": [
        {
          "output_type": "stream",
          "name": "stdout",
          "text": [
            "   Class  Sensitivity(Recall)  Specificity  F1 score\n",
            "0      1             0.443020     0.762392  0.461903\n",
            "1      2             0.518961     0.759941  0.519200\n",
            "2      3             0.809745     0.863529  0.777597\n"
          ]
        }
      ]
    }
  ],
  "metadata": {
    "interpreter": {
      "hash": "40d3a090f54c6569ab1632332b64b2c03c39dcf918b08424e98f38b5ae0af88f"
    },
    "kernelspec": {
      "display_name": "Python 3.8.8 ('base')",
      "language": "python",
      "name": "python3"
    },
    "language_info": {
      "codemirror_mode": {
        "name": "ipython",
        "version": 3
      },
      "file_extension": ".py",
      "mimetype": "text/x-python",
      "name": "python",
      "nbconvert_exporter": "python",
      "pygments_lexer": "ipython3",
      "version": "3.8.8"
    },
    "orig_nbformat": 4,
    "colab": {
      "name": "index.ipynb",
      "provenance": [],
      "include_colab_link": true
    }
  },
  "nbformat": 4,
  "nbformat_minor": 0
}